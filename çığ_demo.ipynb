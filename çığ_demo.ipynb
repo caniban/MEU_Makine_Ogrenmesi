{
 "cells": [
  {
   "cell_type": "markdown",
   "id": "3c319dd5",
   "metadata": {},
   "source": [
    "VERİ SETİNİN YÜKLENMESİ"
   ]
  },
  {
   "cell_type": "code",
   "execution_count": 1,
   "id": "ada01c84",
   "metadata": {},
   "outputs": [
    {
     "data": {
      "text/html": [
       "<div>\n",
       "<style scoped>\n",
       "    .dataframe tbody tr th:only-of-type {\n",
       "        vertical-align: middle;\n",
       "    }\n",
       "\n",
       "    .dataframe tbody tr th {\n",
       "        vertical-align: top;\n",
       "    }\n",
       "\n",
       "    .dataframe thead th {\n",
       "        text-align: right;\n",
       "    }\n",
       "</style>\n",
       "<table border=\"1\" class=\"dataframe\">\n",
       "  <thead>\n",
       "    <tr style=\"text-align: right;\">\n",
       "      <th></th>\n",
       "      <th>Envanter</th>\n",
       "      <th>Eğim</th>\n",
       "      <th>Bakı</th>\n",
       "      <th>TWI</th>\n",
       "      <th>TRI</th>\n",
       "      <th>Yollara Mesafe</th>\n",
       "      <th>Akarsulara Mesafe</th>\n",
       "      <th>Min Sıcaklık</th>\n",
       "      <th>Yağış</th>\n",
       "      <th>Litoloji</th>\n",
       "    </tr>\n",
       "  </thead>\n",
       "  <tbody>\n",
       "    <tr>\n",
       "      <th>0</th>\n",
       "      <td>0</td>\n",
       "      <td>3</td>\n",
       "      <td>6</td>\n",
       "      <td>2</td>\n",
       "      <td>4</td>\n",
       "      <td>1</td>\n",
       "      <td>1</td>\n",
       "      <td>5</td>\n",
       "      <td>3</td>\n",
       "      <td>3</td>\n",
       "    </tr>\n",
       "    <tr>\n",
       "      <th>1</th>\n",
       "      <td>0</td>\n",
       "      <td>2</td>\n",
       "      <td>7</td>\n",
       "      <td>2</td>\n",
       "      <td>4</td>\n",
       "      <td>1</td>\n",
       "      <td>1</td>\n",
       "      <td>5</td>\n",
       "      <td>2</td>\n",
       "      <td>3</td>\n",
       "    </tr>\n",
       "    <tr>\n",
       "      <th>2</th>\n",
       "      <td>0</td>\n",
       "      <td>1</td>\n",
       "      <td>5</td>\n",
       "      <td>2</td>\n",
       "      <td>3</td>\n",
       "      <td>1</td>\n",
       "      <td>1</td>\n",
       "      <td>6</td>\n",
       "      <td>4</td>\n",
       "      <td>4</td>\n",
       "    </tr>\n",
       "    <tr>\n",
       "      <th>3</th>\n",
       "      <td>0</td>\n",
       "      <td>3</td>\n",
       "      <td>0</td>\n",
       "      <td>3</td>\n",
       "      <td>4</td>\n",
       "      <td>1</td>\n",
       "      <td>1</td>\n",
       "      <td>5</td>\n",
       "      <td>2</td>\n",
       "      <td>3</td>\n",
       "    </tr>\n",
       "    <tr>\n",
       "      <th>4</th>\n",
       "      <td>0</td>\n",
       "      <td>3</td>\n",
       "      <td>7</td>\n",
       "      <td>2</td>\n",
       "      <td>4</td>\n",
       "      <td>1</td>\n",
       "      <td>1</td>\n",
       "      <td>5</td>\n",
       "      <td>3</td>\n",
       "      <td>4</td>\n",
       "    </tr>\n",
       "  </tbody>\n",
       "</table>\n",
       "</div>"
      ],
      "text/plain": [
       "   Envanter  Eğim  Bakı  TWI  TRI  Yollara Mesafe  Akarsulara Mesafe  \\\n",
       "0         0     3     6    2    4               1                  1   \n",
       "1         0     2     7    2    4               1                  1   \n",
       "2         0     1     5    2    3               1                  1   \n",
       "3         0     3     0    3    4               1                  1   \n",
       "4         0     3     7    2    4               1                  1   \n",
       "\n",
       "   Min Sıcaklık  Yağış  Litoloji  \n",
       "0             5      3         3  \n",
       "1             5      2         3  \n",
       "2             6      4         4  \n",
       "3             5      2         3  \n",
       "4             5      3         4  "
      ]
     },
     "execution_count": 1,
     "metadata": {},
     "output_type": "execute_result"
    }
   ],
   "source": [
    "import numpy as np\n",
    "import pandas as pd\n",
    "import seaborn as sns\n",
    "import matplotlib.pyplot as plt\n",
    "df = pd.read_excel(\"avalanche_discrete_demo.xlsx\")\n",
    "df.head()"
   ]
  },
  {
   "cell_type": "markdown",
   "id": "b9140294",
   "metadata": {},
   "source": [
    "BAĞIMLI DEĞİŞKENİN SINIF KONTROLÜ"
   ]
  },
  {
   "cell_type": "code",
   "execution_count": 2,
   "id": "3a0ecb57",
   "metadata": {},
   "outputs": [
    {
     "data": {
      "text/plain": [
       "0    1880\n",
       "1    1880\n",
       "Name: Envanter, dtype: int64"
      ]
     },
     "execution_count": 2,
     "metadata": {},
     "output_type": "execute_result"
    }
   ],
   "source": [
    "df['Envanter'].value_counts()"
   ]
  },
  {
   "cell_type": "markdown",
   "id": "62c7733f",
   "metadata": {},
   "source": [
    "BAĞIMLI DEĞİŞKENİN VERİ SETİNDEN DÜŞÜRÜLMESİ\n",
    "(Düşürülmüş haline df_degiskenler ismi verilmiştir-Düşürülmemiş df çerçevesi tekrar kullanılacaktır!)"
   ]
  },
  {
   "cell_type": "code",
   "execution_count": 3,
   "id": "49ea33ff",
   "metadata": {},
   "outputs": [],
   "source": [
    "df_degiskenler=df.drop(\"Envanter\", axis=1)"
   ]
  },
  {
   "cell_type": "code",
   "execution_count": 4,
   "id": "16eab494",
   "metadata": {},
   "outputs": [],
   "source": [
    "df_columns=df_degiskenler.columns # Sütun isimlerini atıyoruz. "
   ]
  },
  {
   "cell_type": "markdown",
   "id": "b0ed7c77",
   "metadata": {},
   "source": [
    "ÇOKLU BAĞLANIM (MULTI-COLLINEARITY) TESTİ"
   ]
  },
  {
   "cell_type": "code",
   "execution_count": 5,
   "id": "a77e62e2",
   "metadata": {},
   "outputs": [
    {
     "data": {
      "text/html": [
       "<div>\n",
       "<style scoped>\n",
       "    .dataframe tbody tr th:only-of-type {\n",
       "        vertical-align: middle;\n",
       "    }\n",
       "\n",
       "    .dataframe tbody tr th {\n",
       "        vertical-align: top;\n",
       "    }\n",
       "\n",
       "    .dataframe thead th {\n",
       "        text-align: right;\n",
       "    }\n",
       "</style>\n",
       "<table border=\"1\" class=\"dataframe\">\n",
       "  <thead>\n",
       "    <tr style=\"text-align: right;\">\n",
       "      <th></th>\n",
       "      <th>VIF</th>\n",
       "      <th>Tolerans</th>\n",
       "    </tr>\n",
       "  </thead>\n",
       "  <tbody>\n",
       "    <tr>\n",
       "      <th>Eğim</th>\n",
       "      <td>1.374124</td>\n",
       "      <td>0.727737</td>\n",
       "    </tr>\n",
       "    <tr>\n",
       "      <th>Bakı</th>\n",
       "      <td>1.022779</td>\n",
       "      <td>0.977729</td>\n",
       "    </tr>\n",
       "    <tr>\n",
       "      <th>TWI</th>\n",
       "      <td>1.151680</td>\n",
       "      <td>0.868297</td>\n",
       "    </tr>\n",
       "    <tr>\n",
       "      <th>TRI</th>\n",
       "      <td>1.032780</td>\n",
       "      <td>0.968260</td>\n",
       "    </tr>\n",
       "    <tr>\n",
       "      <th>Yollara Mesafe</th>\n",
       "      <td>1.254716</td>\n",
       "      <td>0.796993</td>\n",
       "    </tr>\n",
       "    <tr>\n",
       "      <th>Akarsulara Mesafe</th>\n",
       "      <td>1.021175</td>\n",
       "      <td>0.979264</td>\n",
       "    </tr>\n",
       "    <tr>\n",
       "      <th>Min Sıcaklık</th>\n",
       "      <td>1.523685</td>\n",
       "      <td>0.656304</td>\n",
       "    </tr>\n",
       "    <tr>\n",
       "      <th>Yağış</th>\n",
       "      <td>1.160075</td>\n",
       "      <td>0.862013</td>\n",
       "    </tr>\n",
       "    <tr>\n",
       "      <th>Litoloji</th>\n",
       "      <td>1.108056</td>\n",
       "      <td>0.902481</td>\n",
       "    </tr>\n",
       "  </tbody>\n",
       "</table>\n",
       "</div>"
      ],
      "text/plain": [
       "                        VIF  Tolerans\n",
       "Eğim               1.374124  0.727737\n",
       "Bakı               1.022779  0.977729\n",
       "TWI                1.151680  0.868297\n",
       "TRI                1.032780  0.968260\n",
       "Yollara Mesafe     1.254716  0.796993\n",
       "Akarsulara Mesafe  1.021175  0.979264\n",
       "Min Sıcaklık       1.523685  0.656304\n",
       "Yağış              1.160075  0.862013\n",
       "Litoloji           1.108056  0.902481"
      ]
     },
     "execution_count": 5,
     "metadata": {},
     "output_type": "execute_result"
    }
   ],
   "source": [
    "# BU TEST İÇİN AŞAĞIDAKİ HAZIR FONKSİYONU KULLANININIZ\n",
    "import pandas as pd\n",
    "from sklearn.linear_model import LinearRegression\n",
    "def calculate_vif(df, features):    \n",
    "    vif, tolerance = {}, {}\n",
    "    for feature in features:\n",
    "        X = [f for f in features if f != feature]        \n",
    "        X, y = df[X], df[feature]\n",
    "        r2 = LinearRegression().fit(X, y).score(X, y)                \n",
    "        tolerance[feature] = 1 - r2\n",
    "        vif[feature] = 1/(tolerance[feature])\n",
    "    return pd.DataFrame({'VIF': vif, 'Tolerans': tolerance})\n",
    "calculate_vif(df=df_degiskenler, features=df_columns) # df=bağımsız degiskenlerden olusan veri seti (burada df_degiskenler)"
   ]
  },
  {
   "cell_type": "markdown",
   "id": "f583c6f2",
   "metadata": {},
   "source": [
    "KORELASYON MATRİSİ"
   ]
  },
  {
   "cell_type": "code",
   "execution_count": 6,
   "id": "8ae6db3f",
   "metadata": {},
   "outputs": [
    {
     "data": {
      "image/png": "[encoded data removed]",
      "text/plain": [
       "<Figure size 432x432 with 2 Axes>"
      ]
     },
     "metadata": {
      "needs_background": "light"
     },
     "output_type": "display_data"
    }
   ],
   "source": [
    "fig = plt.figure(figsize=(6,6))\n",
    "mask = np.triu(np.ones_like(df_degiskenler.corr(), dtype=bool))\n",
    "heatmap = sns.heatmap(df_degiskenler.corr(), mask=mask, vmin=-1, vmax=1, annot=True, cmap='vlag', fmt=\".2f\")"
   ]
  },
  {
   "cell_type": "markdown",
   "id": "4f4154b0",
   "metadata": {},
   "source": [
    "BAĞIMLI VE BAĞIMSIZ DEĞİŞKENLERİN AYRILMASI (df veri setine geri döndük!!!)"
   ]
  },
  {
   "cell_type": "code",
   "execution_count": 7,
   "id": "454fdd9e",
   "metadata": {},
   "outputs": [
    {
     "data": {
      "text/plain": [
       "(3760, 9)"
      ]
     },
     "execution_count": 7,
     "metadata": {},
     "output_type": "execute_result"
    }
   ],
   "source": [
    "X = df.iloc[:,1:].values\n",
    "X.shape"
   ]
  },
  {
   "cell_type": "code",
   "execution_count": 8,
   "id": "44c83d13",
   "metadata": {},
   "outputs": [
    {
     "data": {
      "text/plain": [
       "(3760,)"
      ]
     },
     "execution_count": 8,
     "metadata": {},
     "output_type": "execute_result"
    }
   ],
   "source": [
    "y = df.iloc[:,0].values\n",
    "y.shape"
   ]
  },
  {
   "cell_type": "code",
   "execution_count": 9,
   "id": "37f1a40f",
   "metadata": {},
   "outputs": [
    {
     "data": {
      "text/plain": [
       "Index(['Eğim', 'Bakı', 'TWI', 'TRI', 'Yollara Mesafe', 'Akarsulara Mesafe',\n",
       "       'Min Sıcaklık', 'Yağış', 'Litoloji'],\n",
       "      dtype='object')"
      ]
     },
     "execution_count": 9,
     "metadata": {},
     "output_type": "execute_result"
    }
   ],
   "source": [
    "column_names = df.iloc[:,1:].columns\n",
    "column_names "
   ]
  },
  {
   "cell_type": "markdown",
   "id": "c78d233f",
   "metadata": {},
   "source": [
    "EĞİTİM VE TEST VERİ SETİNİN AYRILMASI"
   ]
  },
  {
   "cell_type": "code",
   "execution_count": 10,
   "id": "30a01b2e",
   "metadata": {},
   "outputs": [],
   "source": [
    "from sklearn.model_selection import train_test_split\n",
    "X_train,X_test,y_train,y_test = train_test_split(X,y,test_size=0.30,random_state=43, stratify=y)"
   ]
  },
  {
   "cell_type": "markdown",
   "id": "136ae74f",
   "metadata": {},
   "source": [
    "GEREKLİ KÜTÜPHANELERİN YÜKLENMESİ"
   ]
  },
  {
   "cell_type": "code",
   "execution_count": 11,
   "id": "c27bf1fe",
   "metadata": {},
   "outputs": [],
   "source": [
    "from sklearn.ensemble import RandomForestClassifier #SADECE RANDOM FOREST KULLANACAĞIM. \n",
    "from sklearn.metrics import confusion_matrix\n",
    "from sklearn.metrics import f1_score, precision_score, accuracy_score, recall_score, roc_curve, roc_auc_score, auc,precision_recall_curve, average_precision_score"
   ]
  },
  {
   "cell_type": "markdown",
   "id": "43d62af6",
   "metadata": {},
   "source": [
    "BAŞLANGIÇ (DEFAULT) KOŞULLARLA RANDOM FOREST EĞİTİMİ"
   ]
  },
  {
   "cell_type": "code",
   "execution_count": 12,
   "id": "aabaaa3b",
   "metadata": {},
   "outputs": [
    {
     "name": "stdout",
     "output_type": "stream",
     "text": [
      "score train RFC:  0.9753039513677811\n",
      "score test RFC:  0.8865248226950354\n"
     ]
    }
   ],
   "source": [
    "RFC = RandomForestClassifier(random_state=42)\n",
    "\n",
    "RFC.fit(X_train,y_train)\n",
    "print(\"score train RFC: \",RFC.score(X_train,y_train))\n",
    "print(\"score test RFC: \",RFC.score(X_test,y_test))"
   ]
  },
  {
   "cell_type": "markdown",
   "id": "4b258fa7",
   "metadata": {},
   "source": [
    "HİPERPARAMETRELERİN UYUMLANDIRILMASI İÇİN SÖZLÜK YAZALIM. EN İYİ KOMBİNASYONU EKRANA VERELİM."
   ]
  },
  {
   "cell_type": "code",
   "execution_count": 13,
   "id": "52417acb",
   "metadata": {},
   "outputs": [
    {
     "name": "stdout",
     "output_type": "stream",
     "text": [
      "{'max_depth': 50, 'min_samples_split': 20, 'n_estimators': 50}\n",
      "0.8996926429102242\n"
     ]
    }
   ],
   "source": [
    "from sklearn.model_selection import GridSearchCV\n",
    " \n",
    "# Farklı hiperparametre değerlerini içeren sözlüğümüzü yazalım:\n",
    "\n",
    "param_grid = {'n_estimators': [50,100,200],\n",
    "              'max_depth': [10,20,50],\n",
    "              'min_samples_split': [5,10,20]}\n",
    " \n",
    "grid = GridSearchCV(RandomForestClassifier(), param_grid, refit = True)\n",
    " \n",
    "# Kombinasyonları tek tek eğitelim: \n",
    "\n",
    "grid.fit(X_train, y_train)\n",
    "\n",
    "# Optimizasyondaki en iyi hiperparametre kombinasyonunu ekrana verelim.\n",
    "print(grid.best_params_)\n",
    "\n",
    "\n",
    "# En iyi sonucu veren hiperparametre kombinasyonunun doğruluğunu ekrana verelim.\n",
    "print(grid.best_score_)"
   ]
  },
  {
   "cell_type": "markdown",
   "id": "f5484435",
   "metadata": {},
   "source": [
    "UYUMLANDIRILMIŞ HİPERPARAMETRE DEĞERLERİ İLE RANDOM FOREST YENİDEN EĞİTELİM. MODEL ADI RFC_tuned OLDU. DİKKAT!!!"
   ]
  },
  {
   "cell_type": "code",
   "execution_count": 14,
   "id": "3e102173",
   "metadata": {},
   "outputs": [
    {
     "name": "stdout",
     "output_type": "stream",
     "text": [
      "score train RFC tuned:  0.9289513677811551\n",
      "score test RFC tuned:  0.8945035460992907\n"
     ]
    }
   ],
   "source": [
    "RFC_tuned = RandomForestClassifier(random_state=42,n_estimators=100, max_depth=10,min_samples_split=5)\n",
    "RFC_tuned.fit(X_train,y_train)\n",
    "print(\"score train RFC tuned: \",RFC_tuned.score(X_train,y_train))\n",
    "print(\"score test RFC tuned: \",RFC_tuned.score(X_test,y_test))"
   ]
  },
  {
   "cell_type": "markdown",
   "id": "ecae7275",
   "metadata": {},
   "source": [
    "BURADA KARMAŞIKLIK MATRİSİ VE DİĞER PERFORMANS METRİKLERİNİ ÇIKARALIM."
   ]
  },
  {
   "cell_type": "code",
   "execution_count": 15,
   "id": "60b8e1d7",
   "metadata": {},
   "outputs": [
    {
     "name": "stdout",
     "output_type": "stream",
     "text": [
      "accuracy RFC:  0.8945035460992907\n",
      "precision RFC:  0.8665568369028006\n",
      "recall RFC:  0.9326241134751773\n",
      "f1 score RFC:  0.8983774551665242\n"
     ]
    },
    {
     "data": {
      "image/png": "[encoded data removed]",
      "text/plain": [
       "<Figure size 432x432 with 1 Axes>"
      ]
     },
     "metadata": {
      "needs_background": "light"
     },
     "output_type": "display_data"
    }
   ],
   "source": [
    "y_pred_RFC = RFC_tuned.predict(X_test)\n",
    "df_cm_RFC= pd.DataFrame(confusion_matrix(y_test,y_pred_RFC), index = [i for i in [\"Çığ Olmayan\",  'Çığ']],columns = [i for i in [\"Çığ Olmayan\",  'Çığ']])\n",
    "fig = plt.figure(figsize=(6, 6))\n",
    "plt.title('Random Forest Sınıflayıcı', size=15)\n",
    "sns.heatmap(df_cm_RFC, annot = True, fmt='g', cmap='Greens', cbar=False, annot_kws={\"size\": 20})\n",
    "print(\"accuracy RFC: \", accuracy_score(y_test,y_pred_RFC)) \n",
    "print(\"precision RFC: \", precision_score(y_test,y_pred_RFC)) \n",
    "print(\"recall RFC: \", recall_score(y_test,y_pred_RFC)) \n",
    "print(\"f1 score RFC: \", f1_score(y_test,y_pred_RFC)) "
   ]
  },
  {
   "cell_type": "markdown",
   "id": "8efe5533",
   "metadata": {},
   "source": [
    "ROC EĞRİSİ"
   ]
  },
  {
   "cell_type": "code",
   "execution_count": 16,
   "id": "8ca720d5",
   "metadata": {},
   "outputs": [],
   "source": [
    "y_pred_prob_RFC = RFC_tuned.predict_proba(X_test)[:,1]\n",
    "fpr_RFC, tpr_RFC, thresholds_RFC = roc_curve(y_test, y_pred_prob_RFC)\n",
    "roc_auc_RFC = auc(fpr_RFC, tpr_RFC)"
   ]
  },
  {
   "cell_type": "code",
   "execution_count": 17,
   "id": "88476096",
   "metadata": {},
   "outputs": [
    {
     "data": {
      "image/png": "[encoded data removed]",
      "text/plain": [
       "<Figure size 432x432 with 1 Axes>"
      ]
     },
     "metadata": {
      "needs_background": "light"
     },
     "output_type": "display_data"
    }
   ],
   "source": [
    "plt.figure(figsize=(6,6))\n",
    "plt.plot(fpr_RFC, tpr_RFC, label=r'$\\bf{}$'.format('Random Forest')+ '    (AUC = %0.4f)' % roc_auc_RFC, color='b', linewidth=2)\n",
    "plt.xlabel('Yanlış Pozitifler Oranı', size=16, labelpad=10)\n",
    "plt.ylabel('Gerçek Pozitifler Oranı', size=16, labelpad=10)\n",
    "plt.legend(loc='lower right',\n",
    "          fancybox=True, shadow=False, ncol=1,fontsize='large')\n",
    "plt.xlim(-0.03,1.03)\n",
    "plt.ylim(-0.03,1.03)\n",
    "plt.xticks(fontsize=12)\n",
    "plt.yticks(fontsize=12)\n",
    "plt.tick_params(labeltop=False, labelright=False)\n",
    "plt.show()"
   ]
  },
  {
   "cell_type": "markdown",
   "id": "3e82c0d8",
   "metadata": {},
   "source": [
    "FAKTÖRLERİN EĞİTİME KATKI (ÖNEM) DERECESİ - grafik ya da tablo!"
   ]
  },
  {
   "cell_type": "code",
   "execution_count": 18,
   "id": "92276723",
   "metadata": {},
   "outputs": [
    {
     "data": {
      "image/png": "[encoded data removed]",
      "text/plain": [
       "<Figure size 720x432 with 1 Axes>"
      ]
     },
     "metadata": {
      "needs_background": "light"
     },
     "output_type": "display_data"
    },
    {
     "data": {
      "text/html": [
       "<div>\n",
       "<style scoped>\n",
       "    .dataframe tbody tr th:only-of-type {\n",
       "        vertical-align: middle;\n",
       "    }\n",
       "\n",
       "    .dataframe tbody tr th {\n",
       "        vertical-align: top;\n",
       "    }\n",
       "\n",
       "    .dataframe thead th {\n",
       "        text-align: right;\n",
       "    }\n",
       "</style>\n",
       "<table border=\"1\" class=\"dataframe\">\n",
       "  <thead>\n",
       "    <tr style=\"text-align: right;\">\n",
       "      <th></th>\n",
       "      <th>feature_importances</th>\n",
       "      <th>features</th>\n",
       "    </tr>\n",
       "  </thead>\n",
       "  <tbody>\n",
       "    <tr>\n",
       "      <th>6</th>\n",
       "      <td>0.583099</td>\n",
       "      <td>Min Sıcaklık</td>\n",
       "    </tr>\n",
       "    <tr>\n",
       "      <th>0</th>\n",
       "      <td>0.119083</td>\n",
       "      <td>Eğim</td>\n",
       "    </tr>\n",
       "    <tr>\n",
       "      <th>4</th>\n",
       "      <td>0.116508</td>\n",
       "      <td>Yollara Mesafe</td>\n",
       "    </tr>\n",
       "    <tr>\n",
       "      <th>7</th>\n",
       "      <td>0.079603</td>\n",
       "      <td>Yağış</td>\n",
       "    </tr>\n",
       "    <tr>\n",
       "      <th>1</th>\n",
       "      <td>0.035012</td>\n",
       "      <td>Bakı</td>\n",
       "    </tr>\n",
       "    <tr>\n",
       "      <th>8</th>\n",
       "      <td>0.028276</td>\n",
       "      <td>Litoloji</td>\n",
       "    </tr>\n",
       "    <tr>\n",
       "      <th>2</th>\n",
       "      <td>0.017630</td>\n",
       "      <td>TWI</td>\n",
       "    </tr>\n",
       "    <tr>\n",
       "      <th>3</th>\n",
       "      <td>0.014371</td>\n",
       "      <td>TRI</td>\n",
       "    </tr>\n",
       "    <tr>\n",
       "      <th>5</th>\n",
       "      <td>0.006419</td>\n",
       "      <td>Akarsulara Mesafe</td>\n",
       "    </tr>\n",
       "  </tbody>\n",
       "</table>\n",
       "</div>"
      ],
      "text/plain": [
       "   feature_importances           features\n",
       "6             0.583099       Min Sıcaklık\n",
       "0             0.119083               Eğim\n",
       "4             0.116508     Yollara Mesafe\n",
       "7             0.079603              Yağış\n",
       "1             0.035012               Bakı\n",
       "8             0.028276           Litoloji\n",
       "2             0.017630                TWI\n",
       "3             0.014371                TRI\n",
       "5             0.006419  Akarsulara Mesafe"
      ]
     },
     "execution_count": 18,
     "metadata": {},
     "output_type": "execute_result"
    }
   ],
   "source": [
    "fi_df = pd.DataFrame({\n",
    "    \"feature_importances\" : RFC_tuned.feature_importances_,\n",
    "    \"features\" : column_names\n",
    "})\n",
    "\n",
    "fi_df.sort_values(by=\"feature_importances\", ascending=False, inplace=True)\n",
    "\n",
    "plt.figure(figsize=(10,6))\n",
    "sns.barplot(x=\"feature_importances\", y=\"features\", palette=\"twilight\", data=fi_df)\n",
    "plt.xlabel(\"Faktör Önem Oranları\",labelpad=15)\n",
    "plt.ylabel(\"Faktörler\",labelpad=15)\n",
    "plt.title(\"Random Forest\", pad=15)\n",
    "plt.show()\n",
    "\n",
    "fi_df"
   ]
  }
 ],
 "metadata": {
  "kernelspec": {
   "display_name": "Python 3",
   "language": "python",
   "name": "python3"
  },
  "language_info": {
   "codemirror_mode": {
    "name": "ipython",
    "version": 3
   },
   "file_extension": ".py",
   "mimetype": "text/x-python",
   "name": "python",
   "nbconvert_exporter": "python",
   "pygments_lexer": "ipython3",
   "version": "3.8.8"
  }
 },
 "nbformat": 4,
 "nbformat_minor": 5
}
