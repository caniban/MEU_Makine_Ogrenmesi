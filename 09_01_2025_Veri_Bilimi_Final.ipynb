{
  "cells": [
    {
      "cell_type": "markdown",
      "id": "37274914",
      "metadata": {
        "id": "37274914"
      },
      "source": [
        "\n",
        "\n",
        "\n",
        "<h2 align=\"center\"></h2>\n",
        "<h2 align=\"center\">T.C. Mersin Üniversitesi Mühendislik Fakültesi</h2>\n",
        "<h2 align=\"center\">Harita Mühendisliği Bölümü</h2>\n",
        "<h3 align=\"center\">Veri Bilimi Dersi</h3>\n",
        "<h3 align=\"center\">2024-2025 Akademik Yılı Güz Dönemi</h3>\n",
        "<h4 align=\"center\">9 Ocak 2025 tarihli Final Soruları</h4>\n",
        "<h4 align=\"center\">Sınav süresi 90 dakikadır. Başarılar dilerim.</h4>\n",
        "<h4 align=\"center\">Doç. Dr. Muzaffer Can İBAN</h4>\n",
        "<h4 align=\"center\">Dosyanızı İsim_Soyisim_Numara_Final.ipynb ismiyle kaydediniz ve caniban@mersin.edu.tr e-posta adresine saat 16:30'a kadar gönderiniz.</h4>"
      ]
    },
    {
      "cell_type": "markdown",
      "id": "751a1706",
      "metadata": {
        "id": "751a1706"
      },
      "source": [
        "### Talimatlar\n",
        "`landslide.csv` dosyasını bu bağlantıdan bilgisayarınızdaki çalışma klasörünüze indiriniz: https://github.com/caniban/MEU_Makine_Ogrenmesi/blob/main/landslide.csv\n",
        "\n",
        "1) Numpy, Pandas, Matplotlib ve Seaborn Kütüphanelerini yükleyiniz. (5 puan)\n",
        "\n",
        "2) Verilen dosyayı bir veri çerçevesi olarak yükleyiniz ve head() ile gösteriminiz sağlayınız. (5 puan)"
      ]
    },
    {
      "cell_type": "markdown",
      "id": "6cc012a3",
      "metadata": {
        "id": "6cc012a3"
      },
      "source": [
        "3) `CLASS` sütunu bağımlı değişkendir. Diğer sütunlar ise öğrenme için kullanılacak bağımsız değişkenlerdir. X ve y ayrımını gerçekleştiriniz ve y'deki (bağımlı değişken) veri içeriğinin dağılımını y.value_counts() ile kontrol ediniz. 1 ile kodlanmış numuneler heyelan varlığını, 0 ile kodlanmış numuneler ise heyelan yokluğunu temsil etmektedir. (10 puan)"
      ]
    },
    {
      "cell_type": "markdown",
      "id": "b1bdbd42",
      "metadata": {
        "id": "b1bdbd42"
      },
      "source": [
        "4) Oranı 66-33 olacak şekilde eğitim ve test verilerini ayırınız. (10 puan)"
      ]
    },
    {
      "cell_type": "markdown",
      "id": "6a4625fe",
      "metadata": {
        "id": "6a4625fe"
      },
      "source": [
        "5) Random Forest Sınıflayıcı fonksiyonunu scikit-learn kütüphanesinden çağırınız. Akabinde GridSearchCV tekniği ile Random Forest sınıflayıcıya ait iki hiperparametrenin optimizasyonunu sağlayınız.\n",
        "\n",
        "Bu hiperparametreler:\n",
        "`'n_estimators': [10,20,50,100]`\n",
        "\n",
        "`'max_depth': [None, 2,5.10]`\n",
        "\n",
        "En yüksek doğruluğu veren kombinasyonu tespit ediniz. (15 puan)"
      ]
    },
    {
      "cell_type": "markdown",
      "id": "31cbefb9",
      "metadata": {
        "id": "31cbefb9"
      },
      "source": [
        "6) Optimize edilmiş hiperparametreleri kullanarak nihai Random Forest Sınıflayıcınızı eğitiniz. (10 puan)"
      ]
    },
    {
      "cell_type": "markdown",
      "id": "dceb307d",
      "metadata": {
        "id": "dceb307d"
      },
      "source": [
        "7) Eğitimden sonra X_test üzerinde tahmin oluşturunuz. Daha sonra, `confusion_matrix`, `precision_score`, `accuracy_score`, `recall_score`, `f1_score` metriklerini scikit-learn kütüphanesinden çağırınız. Sınıflayıcınıza ait karmaşıklık matrisini oluşturunuz ve performans metriklerini hesaplayınız. (15 puan)"
      ]
    },
    {
      "cell_type": "markdown",
      "id": "b3a13639",
      "metadata": {
        "id": "b3a13639"
      },
      "source": [
        "8) Scikit-learn kütüphanesinden roc_curve, auc, roc_auc_score fonksiyonlarını çağırınız ve nihai sınflayıcınıza ait ROC eğrisini çizdiriniz.(10 puan)"
      ]
    },
    {
      "cell_type": "markdown",
      "id": "cda5f481",
      "metadata": {
        "id": "cda5f481"
      },
      "source": [
        "9) İlk kullandığınız veri çerçevesinin ismini kullanarak bağımsız değişkenlerin (ilk sütun hariç) isimlerini (column_names) iloc ile ayıklayıp ekrana veriniz. (5 puan)"
      ]
    },
    {
      "cell_type": "markdown",
      "id": "8708d340",
      "metadata": {
        "id": "8708d340"
      },
      "source": [
        "10) Bağımsız değişkenlerin eğitilmiş RF modelindeki özellik önemini (feature importance) hesaplayıp, hem bar grafiği hem de liste olarak veriniz. (15 puan)"
      ]
    },
    {
      "cell_type": "markdown",
      "id": "2764a687",
      "metadata": {
        "id": "2764a687"
      },
      "source": [
        "#### Bulgularınıza Göre Aşağıdaki Tabloyu Doldurunuz (Koda Tıklayınız ve Satıra Karşılık Gelen Değeri Giriniz)\n",
        "| Metrik       | Değer       |\n",
        "| -------------- | ------------ |\n",
        "| TP (True Positive)   |              |\n",
        "| FP (False Positive)  |              |\n",
        "| FN (False Negative)  |              |\n",
        "| TN (True Negative)   |              |\n",
        "| Accuracy       |              |\n",
        "| Precision      |              |\n",
        "| Recall         |              |\n",
        "| F-1 Score      |              |\n",
        "| AUC            |              |\n",
        "| En Önemli Faktör |              |\n"
      ]
    }
  ],
  "metadata": {
    "colab": {
      "provenance": []
    },
    "kernelspec": {
      "display_name": "Python 3",
      "language": "python",
      "name": "python3"
    },
    "language_info": {
      "codemirror_mode": {
        "name": "ipython",
        "version": 3
      },
      "file_extension": ".py",
      "mimetype": "text/x-python",
      "name": "python",
      "nbconvert_exporter": "python",
      "pygments_lexer": "ipython3",
      "version": "3.8.8"
    }
  },
  "nbformat": 4,
  "nbformat_minor": 5
}