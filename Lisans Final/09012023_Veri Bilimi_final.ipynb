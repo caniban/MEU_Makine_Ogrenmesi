{
 "cells": [
  {
   "cell_type": "markdown",
   "id": "37274914",
   "metadata": {},
   "source": [
    "**T.C. Mersin Üniversitesi Mühendislik Fakültesi – Harita Mühendisliği Bölümü**\n",
    "\n",
    "2022-2023 Akademik Yılı Güz Dönemi\n",
    "\n",
    "Veri Bilimi – Final Sınavı – 9 Ocak 2023 Pazartesi\n",
    "\n",
    "Dosyanızı İsim_Soyisim_Numara_Final.ipynb ismiyle kaydediniz ve caniban@mersin.edu.tr e-posta adresine saat 15:00'e kadar gönderiniz. Başarılar dilerim. \n",
    "\n",
    "Dr. Öğr. Üyesi Muzaffer Can İBAN"
   ]
  },
  {
   "cell_type": "markdown",
   "id": "751a1706",
   "metadata": {},
   "source": [
    "### Talimatlar\n",
    "`iris.csv` dosyasını bu bağlantıdan bilgisayarınızdaki çalışma klasörünüze indiriniz: https://github.com/caniban/MEU_Veri_Bilimi/blob/main/unite%2011%20istatistiksel%20veri%20analizi/iris.csv\n",
    "\n",
    "1) Numpy, Pandas, Matplotlib ve Seaborn Kütüphanelerini yükleyiniz.\n",
    "\n",
    "2) Verilen dosyayı bir veri çerçevesi olarak yükleyiniz ve head() ile gösterimini sağlayınız."
   ]
  },
  {
   "cell_type": "code",
   "execution_count": null,
   "id": "5ded4174",
   "metadata": {},
   "outputs": [],
   "source": []
  },
  {
   "cell_type": "markdown",
   "id": "3b82cc09",
   "metadata": {},
   "source": [
    "3) `species` sütunu bağımlı değişkendir. Diğer sütunlar ise öğrenme için kullanılacak bağımsız değişkenlerdir. X ve y ayrımını gerçekleştiriniz. "
   ]
  },
  {
   "cell_type": "code",
   "execution_count": null,
   "id": "667d08b7",
   "metadata": {},
   "outputs": [],
   "source": []
  },
  {
   "cell_type": "markdown",
   "id": "4924ace9",
   "metadata": {},
   "source": [
    "4) Oranı 66-33 olacak şekilde eğitim ve test verilerini ayırınız. "
   ]
  },
  {
   "cell_type": "code",
   "execution_count": null,
   "id": "8780d149",
   "metadata": {},
   "outputs": [],
   "source": []
  },
  {
   "cell_type": "markdown",
   "id": "e8977588",
   "metadata": {},
   "source": [
    "5) y (bağımlı değişken) kategoriktir. Setosa, Versicolor ve Virginica kategorilerinden oluşmaktadır. y_test ve y_train üzerinde LabelEncoder çalıştırarak bu verileri numerik hale çeviriniz. "
   ]
  },
  {
   "cell_type": "code",
   "execution_count": null,
   "id": "981fe2d4",
   "metadata": {},
   "outputs": [],
   "source": []
  },
  {
   "cell_type": "markdown",
   "id": "4116dcb7",
   "metadata": {},
   "source": [
    "6) Random Forest Sınıflayıcı fonksiyonunu scikit-learn kütüphanesinden çağırınız. Akabinde GridSearchCV tekniği ile Random Forest sınıflayıcıya ait iki hiperparametrenin optimizasyonunu sağlayınız. \n",
    "\n",
    "Bu hiperparametreler:\n",
    "`'n_estimators': [10,20,50,100]`\n",
    "\n",
    "`'max_depth': [None, 2,5.10]`\n",
    "\n",
    "En yüksek doğruluğu veren kombinasyonu tespit ediniz. "
   ]
  },
  {
   "cell_type": "code",
   "execution_count": null,
   "id": "ec00e730",
   "metadata": {},
   "outputs": [],
   "source": []
  },
  {
   "cell_type": "markdown",
   "id": "8b695214",
   "metadata": {},
   "source": [
    "7) Optimize edilmiş hiperparametreleri kullanarak nihai Random Forest Sınıflayıcınızı eğitiniz. "
   ]
  },
  {
   "cell_type": "code",
   "execution_count": null,
   "id": "2b885057",
   "metadata": {},
   "outputs": [],
   "source": []
  },
  {
   "cell_type": "markdown",
   "id": "87cb33e6",
   "metadata": {},
   "source": [
    "8) Eğitimden sonra X_test üzerinde tahmin oluşturunuz. Daha sonra, `confusion_matrix` ve `accuracy_score` metriklerini scikit-learn kütüphanesinden çağırınız. Sınıflayıcınıza ait karmaşıklık matrisini oluşturunuz. Dikkat! Bu sınıflandırma problemi 3 adet sınıf içermektedir. `['setosa', 'versicolor', 'virginica'] `Dolayısıyla matrisiniz 3X3 boyutta olacaktır. Kodunuzun index ve columns argümanlarını buna göre düzenleyiniz. En son, `accuracy_score` ile sınıflandırma doğruluğunu ekrana veriniz. Dikkat! F-score, precision, recall gibi metrikler bu problemde istenmemektedir. 3'lü sınıflandırmada bu metrikler çalışmayacaktır. Vakit kaybetmeyiniz. Sadece karmaşıklık matrisi ve accuracy metriği yeterlidir.  "
   ]
  },
  {
   "cell_type": "code",
   "execution_count": null,
   "id": "a49e41bd",
   "metadata": {},
   "outputs": [],
   "source": []
  },
  {
   "cell_type": "markdown",
   "id": "84204e94",
   "metadata": {},
   "source": [
    "9) İlk kullandığınız veri çerçevesinin ismini kullanarak bağımsız değişkenlerin (ilk dört sütunun) isimlerini (column_names) iloc ile ayıklayıp ekrana veriniz. "
   ]
  },
  {
   "cell_type": "code",
   "execution_count": null,
   "id": "0e64240a",
   "metadata": {},
   "outputs": [],
   "source": []
  },
  {
   "cell_type": "markdown",
   "id": "13c58450",
   "metadata": {},
   "source": [
    "10) Bağımsız değişkenlerin eğitilmiş RF modelindeki özellik önemini (feature importance) hesaplayıp, hem bar grafiği hem de liste olarak veriniz. "
   ]
  },
  {
   "cell_type": "code",
   "execution_count": null,
   "id": "ab220045",
   "metadata": {},
   "outputs": [],
   "source": []
  },
  {
   "cell_type": "markdown",
   "id": "e430c5f4",
   "metadata": {},
   "source": [
    "11) Tartışma: Karmaşıklık matrisinize göre orijinalinde versicolor çiçeği olup virginica olarak sınıflandırılan kaç numune vardır?"
   ]
  },
  {
   "cell_type": "markdown",
   "id": "731943ef",
   "metadata": {},
   "source": []
  },
  {
   "cell_type": "markdown",
   "id": "7a38e24f",
   "metadata": {},
   "source": [
    "12) Tartışma: Feature importance analizinize göre RF modelinin eğitimindeki en önemli bağımsız değişken hangisidir? "
   ]
  },
  {
   "cell_type": "markdown",
   "id": "e8e210c5",
   "metadata": {},
   "source": []
  }
 ],
 "metadata": {
  "kernelspec": {
   "display_name": "Python 3",
   "language": "python",
   "name": "python3"
  },
  "language_info": {
   "codemirror_mode": {
    "name": "ipython",
    "version": 3
   },
   "file_extension": ".py",
   "mimetype": "text/x-python",
   "name": "python",
   "nbconvert_exporter": "python",
   "pygments_lexer": "ipython3",
   "version": "3.8.8"
  }
 },
 "nbformat": 4,
 "nbformat_minor": 5
}
