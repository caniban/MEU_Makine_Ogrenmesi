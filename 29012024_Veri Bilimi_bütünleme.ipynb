{
 "cells": [
  {
   "cell_type": "markdown",
   "id": "37274914",
   "metadata": {},
   "source": [
    "\n",
    "\n",
    "<h2 align=\"center\">T.C. Mersin Üniversitesi</h1>\n",
    "<h2 align=\"center\">Mühendislik Fakültesi</h2>\n",
    "<h2 align=\"center\">Harita Mühendisliği Bölümü</h2>\n",
    "<h3 align=\"center\">Veri Bilimi Dersi</h3>\n",
    "<h4 align=\"center\">29 Ocak 2024 tarihli Bütünleme Soruları</h4>\n",
    "<h4 align=\"center\">Sınav süresi 60 dakikadır. Başarılar dilerim.</h4>\n",
    "<h4 align=\"center\">Doç. Dr. Muzaffer Can İBAN</h4>\n",
    "<h4 align=\"center\">Dosyanızı İsim_Soyisim_Numara_Butunleme.ipynb ismiyle kaydediniz ve caniban@mersin.edu.tr e-posta adresine gönderiniz.</h4>"
   ]
  },
  {
   "cell_type": "markdown",
   "id": "751a1706",
   "metadata": {},
   "source": [
    "### Talimatlar\n",
    "`soma_sismo.xlsx` dosyasını bu bağlantıdan bilgisayarınızdaki çalışma klasörünüze indiriniz: https://github.com/caniban/MEU_Makine_Ogrenmesi/blob/main/soma_sismo.xlsx\n",
    "\n",
    "Bu dosyada, Manisa-Soma'da bulunan Kandilli Rasathanesi'ne ait sismograf verilerini görmektesiniz. Soma'da hem deprem faaliyetleri, hem de madenler için dinamit ile patlatma faaliyetleri yoğun bir şekilde gerçekleşmektedir. Dinamitle patlatma faaliyetleri, 3 büyüklüğünden küçük depremler gibi sismograflar tarafından algılanabilmektedir. Dolayısıyla Kandilli kataloglarında hangi verinin deprem, hangi verinin patlatma olduğunu ayırt eden bir sınıflandırma çalışması yapılmalıdır.\n",
    "\n",
    "1) Numpy, Pandas, Matplotlib ve Seaborn Kütüphanelerini yükleyiniz.\n",
    "\n",
    "2) Verilen dosyayı bir veri çerçevesi olarak yükleyiniz ve `head()` ile gösteriminiz sağlayınız."
   ]
  },
  {
   "cell_type": "markdown",
   "id": "6cc012a3",
   "metadata": {},
   "source": [
    "3) `Kaynak` sütunu bağımlı değişkendir. Diğer sütunlar ise öğrenme için kullanılacak bağımsız değişkenlerdir. X ve y ayrımını gerçekleştiriniz ve y'deki (bağımlı değişken) veri içeriğinin dağılımını y.value_counts() ile kontrol ediniz. 0 ile kodlanmış numuneler depremi, 0 ile kodlanmış numuneler ise patlamayı temsil etmektedir. "
   ]
  },
  {
   "cell_type": "markdown",
   "id": "b1bdbd42",
   "metadata": {},
   "source": [
    "4) Oranı 70-30 olacak şekilde eğitim ve test verilerini ayırınız. "
   ]
  },
  {
   "cell_type": "markdown",
   "id": "6a4625fe",
   "metadata": {},
   "source": [
    "5) Random Forest Sınıflayıcı fonksiyonunu scikit-learn kütüphanesinden çağırınız. Akabinde GridSearchCV tekniği ile Random Forest sınıflayıcıya ait iki hiperparametrenin optimizasyonunu sağlayınız. \n",
    "\n",
    "Bu hiperparametreler:\n",
    "`'n_estimators': [10,20,50,100,200,500,1000]`\n",
    "\n",
    "`'max_depth': [None, 2,5.10]`\n",
    "\n",
    "En yüksek doğruluğu veren kombinasyonu tespit ediniz. "
   ]
  },
  {
   "cell_type": "markdown",
   "id": "31cbefb9",
   "metadata": {},
   "source": [
    "6) Optimize edilmiş hiperparametreleri kullanarak nihai Random Forest Sınıflayıcınızı eğitiniz. "
   ]
  },
  {
   "cell_type": "markdown",
   "id": "dceb307d",
   "metadata": {},
   "source": [
    "7) Eğitimden sonra X_test üzerinde tahmin oluşturunuz. Daha sonra, `confusion_matrix`, `precision_score`, `accuracy_score`, `recall_score`, `f1_score` metriklerini scikit-learn kütüphanesinden çağırınız. Sınıflayıcınıza ait karmaşıklık matrisini oluşturunuz ve performans metriklerini hesaplayınız."
   ]
  },
  {
   "cell_type": "markdown",
   "id": "b3a13639",
   "metadata": {},
   "source": [
    "8) Scikit-learn kütüphanesinden roc_curve, auc, roc_auc_score fonksiyonlarını çağırınız ve nihai sınflayıcınıza ait ROC eğrisini çizdiriniz."
   ]
  },
  {
   "cell_type": "markdown",
   "id": "cda5f481",
   "metadata": {},
   "source": [
    "9) İlk kullandığınız veri çerçevesinin ismini kullanarak bağımsız değişkenlerin (son sütun hariç) isimlerini (column_names) iloc ile ayıklayıp ekrana veriniz. "
   ]
  },
  {
   "cell_type": "markdown",
   "id": "8708d340",
   "metadata": {},
   "source": [
    "10) Bağımsız değişkenlerin eğitilmiş RF modelindeki özellik önemini (feature importance) hesaplayıp, hem bar grafiği hem de liste olarak veriniz. "
   ]
  },
  {
   "cell_type": "markdown",
   "id": "2764a687",
   "metadata": {},
   "source": [
    "#### Bulgularınıza Göre Aşağıdaki Tabloyu Doldurunuz (Koda Tıklayınız ve Satıra Karşılık Gelen Değeri Giriniz)\n",
    "| Metrik       | Değer       |\n",
    "| -------------- | ------------ |\n",
    "| TP (True Positive)   |              |\n",
    "| FP (False Positive)  |              |\n",
    "| FN (False Negative)  |              |\n",
    "| TN (True Negative)   |              |\n",
    "| Accuracy       |              |\n",
    "| Precision      |              |\n",
    "| Recall         |              |\n",
    "| F-1 Score      |              |\n",
    "| AUC            |              |\n",
    "| En Önemli Faktör |              |\n"
   ]
  }
 ],
 "metadata": {
  "kernelspec": {
   "display_name": "Python 3",
   "language": "python",
   "name": "python3"
  },
  "language_info": {
   "codemirror_mode": {
    "name": "ipython",
    "version": 3
   },
   "file_extension": ".py",
   "mimetype": "text/x-python",
   "name": "python",
   "nbconvert_exporter": "python",
   "pygments_lexer": "ipython3",
   "version": "3.8.8"
  }
 },
 "nbformat": 4,
 "nbformat_minor": 5
}
