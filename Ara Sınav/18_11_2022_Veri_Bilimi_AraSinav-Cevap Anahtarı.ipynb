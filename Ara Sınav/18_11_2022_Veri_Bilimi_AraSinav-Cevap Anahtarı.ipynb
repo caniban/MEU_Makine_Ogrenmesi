{
 "cells": [
  {
   "cell_type": "markdown",
   "id": "bab10623",
   "metadata": {},
   "source": [
    "### $\\color{blue}{\\text{T.C. MERSİN ÜNİVERSİTESİ}}$ \n",
    "### $\\color{blue}{\\text{MÜHENDİSLİK FAKÜLTESİ}}$ \n",
    "### $\\color{blue}{\\text{HARİTA MÜHENDİSLİĞİ BÖLÜMÜ}}$ \n",
    "#### \t$\\color{blue}{\\text{1607013 VERİ BİLİMİ }}$ \n",
    "#### 2022 - 2023 Güz Dönemi Ara Sınavı\n",
    "#### 18 Kasım 2022\n",
    "#### Dr. Öğr. Üyesi Muzaffer Can İban\n",
    "#### Sınav Süresi 90 dakikadır.\n",
    "\n",
    "### $\\color{red}{\\text{CEVAP ANAHTARI}}$ "
   ]
  },
  {
   "cell_type": "code",
   "execution_count": 1,
   "id": "6936b7dd",
   "metadata": {},
   "outputs": [],
   "source": [
    "# Burayı çalıştırınız\n",
    "import pandas as pd\n",
    "import numpy as np\n",
    "import matplotlib.pyplot as plt\n",
    "import seaborn as sns"
   ]
  },
  {
   "cell_type": "markdown",
   "id": "914f4c9e",
   "metadata": {},
   "source": [
    "### Soru 1: (30 puan)\n",
    "`data_ion2.xlsx`excel veri seti içerisinde Roma Digisonde ve IGS istasyonlarından elde edilmiş 2014 yılına ait iyonosfer parametreleri değerlerinin zaman serisi görünmektedir. Aşağıdaki tabloda size verilen sütunda ve satır aralığında, size tanımlanan görev ile boşluklu gözlemleri doldurunuz. "
   ]
  },
  {
   "cell_type": "markdown",
   "id": "327d7bdd",
   "metadata": {},
   "source": [
    "\n",
    "| Öğrenci No | Sütun | Satır Aralığı | Görev |\n",
    "| --- | --- | --- | --- |\n",
    "| 19160002 | hmF2(t-23) | 43-59 | Boşluğu en son gözlemlenen değer ile doldur |\n",
    "| 19160004 | hmF2(t-23) | 56-74 | Boşluğu en son gözlemlenen değer ile doldur |\n",
    "| 19160005 | hmF2(t-23) | 88-102 | Boşluğu en son gözlemlenen değer ile doldur |\n",
    "| 19160006 | hmF2(t-23) | 118-129 | Boşluğu en son gözlemlenen değer ile doldur |\n",
    "| 19160010 | hmF2 | 3299-3311 | Boşluğu en son gözlemlenen değer ile doldur |\n",
    "| 19160012 | hmF2 | 1254-1266 | Boşluğu en son gözlemlenen değer ile doldur |\n",
    "| 19160015 | f0F2 | 24-38 | Boşluğu en son gözlemlenen değer ile doldur |\n",
    "| 19160016 | f0F2 | 69-82 | Boşluğu en son gözlemlenen değer ile doldur |\n",
    "| 19160017 | f0F2 | 143-158 | Boşluğu en son gözlemlenen değer ile doldur |\n",
    "| 19160020 | f0F2(t-23) | 46-58 | Boşluğu bir sonraki gözlem değeri ile doldur |\n",
    "| 19160021 | f0F2(t-23) | 116-129 | Boşluğu bir sonraki gözlem değeri ile doldur |\n",
    "| 20160801 | hmF2 | 2687-2700 | Boşluğu bir sonraki gözlem değeri ile doldur |\n",
    "| 20160803 | f0F2 | 7004-7014 | Boşluğu bir sonraki gözlem değeri ile doldur|"
   ]
  },
  {
   "cell_type": "markdown",
   "id": "d93621c6",
   "metadata": {},
   "source": [
    "### Cevap 1: "
   ]
  },
  {
   "cell_type": "code",
   "execution_count": 2,
   "id": "1cb2007d",
   "metadata": {},
   "outputs": [
    {
     "data": {
      "text/html": [
       "<div>\n",
       "<style scoped>\n",
       "    .dataframe tbody tr th:only-of-type {\n",
       "        vertical-align: middle;\n",
       "    }\n",
       "\n",
       "    .dataframe tbody tr th {\n",
       "        vertical-align: top;\n",
       "    }\n",
       "\n",
       "    .dataframe thead th {\n",
       "        text-align: right;\n",
       "    }\n",
       "</style>\n",
       "<table border=\"1\" class=\"dataframe\">\n",
       "  <thead>\n",
       "    <tr style=\"text-align: right;\">\n",
       "      <th></th>\n",
       "      <th>DOY</th>\n",
       "      <th>HOD</th>\n",
       "      <th>DNS</th>\n",
       "      <th>DNC</th>\n",
       "      <th>HRS</th>\n",
       "      <th>HRC</th>\n",
       "      <th>f107</th>\n",
       "      <th>ap</th>\n",
       "      <th>f0F2(t-23)</th>\n",
       "      <th>f0F2</th>\n",
       "      <th>hmF2(t-23)</th>\n",
       "      <th>hmF2</th>\n",
       "    </tr>\n",
       "    <tr>\n",
       "      <th>DATE</th>\n",
       "      <th></th>\n",
       "      <th></th>\n",
       "      <th></th>\n",
       "      <th></th>\n",
       "      <th></th>\n",
       "      <th></th>\n",
       "      <th></th>\n",
       "      <th></th>\n",
       "      <th></th>\n",
       "      <th></th>\n",
       "      <th></th>\n",
       "      <th></th>\n",
       "    </tr>\n",
       "  </thead>\n",
       "  <tbody>\n",
       "    <tr>\n",
       "      <th>2014-01-01</th>\n",
       "      <td>1</td>\n",
       "      <td>0</td>\n",
       "      <td>0.017213</td>\n",
       "      <td>0.999852</td>\n",
       "      <td>0.000000</td>\n",
       "      <td>1.000000e+00</td>\n",
       "      <td>154.300000</td>\n",
       "      <td>3.000000</td>\n",
       "      <td>NaN</td>\n",
       "      <td>12.15</td>\n",
       "      <td>NaN</td>\n",
       "      <td>NaN</td>\n",
       "    </tr>\n",
       "    <tr>\n",
       "      <th>2014-01-01</th>\n",
       "      <td>1</td>\n",
       "      <td>1</td>\n",
       "      <td>0.017213</td>\n",
       "      <td>0.999852</td>\n",
       "      <td>0.258819</td>\n",
       "      <td>9.659258e-01</td>\n",
       "      <td>155.463349</td>\n",
       "      <td>3.666667</td>\n",
       "      <td>NaN</td>\n",
       "      <td>3.30</td>\n",
       "      <td>NaN</td>\n",
       "      <td>NaN</td>\n",
       "    </tr>\n",
       "    <tr>\n",
       "      <th>2014-01-01</th>\n",
       "      <td>1</td>\n",
       "      <td>2</td>\n",
       "      <td>0.017213</td>\n",
       "      <td>0.999852</td>\n",
       "      <td>0.500000</td>\n",
       "      <td>8.660254e-01</td>\n",
       "      <td>156.466557</td>\n",
       "      <td>4.333333</td>\n",
       "      <td>4.80</td>\n",
       "      <td>15.05</td>\n",
       "      <td>232.4</td>\n",
       "      <td>303.7</td>\n",
       "    </tr>\n",
       "    <tr>\n",
       "      <th>2014-01-01</th>\n",
       "      <td>1</td>\n",
       "      <td>3</td>\n",
       "      <td>0.017213</td>\n",
       "      <td>0.999852</td>\n",
       "      <td>0.707107</td>\n",
       "      <td>7.071068e-01</td>\n",
       "      <td>157.318111</td>\n",
       "      <td>5.000000</td>\n",
       "      <td>9.95</td>\n",
       "      <td>7.90</td>\n",
       "      <td>232.2</td>\n",
       "      <td>248.4</td>\n",
       "    </tr>\n",
       "    <tr>\n",
       "      <th>2014-01-01</th>\n",
       "      <td>1</td>\n",
       "      <td>4</td>\n",
       "      <td>0.017213</td>\n",
       "      <td>0.999852</td>\n",
       "      <td>0.866025</td>\n",
       "      <td>5.000000e-01</td>\n",
       "      <td>158.026500</td>\n",
       "      <td>5.666667</td>\n",
       "      <td>10.70</td>\n",
       "      <td>9.45</td>\n",
       "      <td>302.4</td>\n",
       "      <td>245.2</td>\n",
       "    </tr>\n",
       "    <tr>\n",
       "      <th>2014-01-01</th>\n",
       "      <td>1</td>\n",
       "      <td>5</td>\n",
       "      <td>0.017213</td>\n",
       "      <td>0.999852</td>\n",
       "      <td>0.965926</td>\n",
       "      <td>2.588190e-01</td>\n",
       "      <td>158.600209</td>\n",
       "      <td>6.333333</td>\n",
       "      <td>9.35</td>\n",
       "      <td>7.15</td>\n",
       "      <td>NaN</td>\n",
       "      <td>313.8</td>\n",
       "    </tr>\n",
       "    <tr>\n",
       "      <th>2014-01-01</th>\n",
       "      <td>1</td>\n",
       "      <td>6</td>\n",
       "      <td>0.017213</td>\n",
       "      <td>0.999852</td>\n",
       "      <td>1.000000</td>\n",
       "      <td>6.123234e-17</td>\n",
       "      <td>159.047728</td>\n",
       "      <td>7.000000</td>\n",
       "      <td>7.50</td>\n",
       "      <td>5.65</td>\n",
       "      <td>280.1</td>\n",
       "      <td>337.4</td>\n",
       "    </tr>\n",
       "    <tr>\n",
       "      <th>2014-01-01</th>\n",
       "      <td>1</td>\n",
       "      <td>7</td>\n",
       "      <td>0.017213</td>\n",
       "      <td>0.999852</td>\n",
       "      <td>0.965926</td>\n",
       "      <td>-2.588190e-01</td>\n",
       "      <td>159.377543</td>\n",
       "      <td>7.000000</td>\n",
       "      <td>7.85</td>\n",
       "      <td>5.15</td>\n",
       "      <td>290.8</td>\n",
       "      <td>316.9</td>\n",
       "    </tr>\n",
       "    <tr>\n",
       "      <th>2014-01-01</th>\n",
       "      <td>1</td>\n",
       "      <td>8</td>\n",
       "      <td>0.017213</td>\n",
       "      <td>0.999852</td>\n",
       "      <td>0.866025</td>\n",
       "      <td>-5.000000e-01</td>\n",
       "      <td>159.598141</td>\n",
       "      <td>7.000000</td>\n",
       "      <td>5.90</td>\n",
       "      <td>5.30</td>\n",
       "      <td>301.2</td>\n",
       "      <td>321.1</td>\n",
       "    </tr>\n",
       "    <tr>\n",
       "      <th>2014-01-01</th>\n",
       "      <td>1</td>\n",
       "      <td>9</td>\n",
       "      <td>0.017213</td>\n",
       "      <td>0.999852</td>\n",
       "      <td>0.707107</td>\n",
       "      <td>-7.071068e-01</td>\n",
       "      <td>159.718010</td>\n",
       "      <td>7.000000</td>\n",
       "      <td>6.35</td>\n",
       "      <td>5.00</td>\n",
       "      <td>336.0</td>\n",
       "      <td>295.1</td>\n",
       "    </tr>\n",
       "  </tbody>\n",
       "</table>\n",
       "</div>"
      ],
      "text/plain": [
       "            DOY  HOD       DNS       DNC       HRS           HRC        f107  \\\n",
       "DATE                                                                           \n",
       "2014-01-01    1    0  0.017213  0.999852  0.000000  1.000000e+00  154.300000   \n",
       "2014-01-01    1    1  0.017213  0.999852  0.258819  9.659258e-01  155.463349   \n",
       "2014-01-01    1    2  0.017213  0.999852  0.500000  8.660254e-01  156.466557   \n",
       "2014-01-01    1    3  0.017213  0.999852  0.707107  7.071068e-01  157.318111   \n",
       "2014-01-01    1    4  0.017213  0.999852  0.866025  5.000000e-01  158.026500   \n",
       "2014-01-01    1    5  0.017213  0.999852  0.965926  2.588190e-01  158.600209   \n",
       "2014-01-01    1    6  0.017213  0.999852  1.000000  6.123234e-17  159.047728   \n",
       "2014-01-01    1    7  0.017213  0.999852  0.965926 -2.588190e-01  159.377543   \n",
       "2014-01-01    1    8  0.017213  0.999852  0.866025 -5.000000e-01  159.598141   \n",
       "2014-01-01    1    9  0.017213  0.999852  0.707107 -7.071068e-01  159.718010   \n",
       "\n",
       "                  ap  f0F2(t-23)   f0F2  hmF2(t-23)   hmF2  \n",
       "DATE                                                        \n",
       "2014-01-01  3.000000         NaN  12.15         NaN    NaN  \n",
       "2014-01-01  3.666667         NaN   3.30         NaN    NaN  \n",
       "2014-01-01  4.333333        4.80  15.05       232.4  303.7  \n",
       "2014-01-01  5.000000        9.95   7.90       232.2  248.4  \n",
       "2014-01-01  5.666667       10.70   9.45       302.4  245.2  \n",
       "2014-01-01  6.333333        9.35   7.15         NaN  313.8  \n",
       "2014-01-01  7.000000        7.50   5.65       280.1  337.4  \n",
       "2014-01-01  7.000000        7.85   5.15       290.8  316.9  \n",
       "2014-01-01  7.000000        5.90   5.30       301.2  321.1  \n",
       "2014-01-01  7.000000        6.35   5.00       336.0  295.1  "
      ]
     },
     "execution_count": 2,
     "metadata": {},
     "output_type": "execute_result"
    }
   ],
   "source": [
    "# Burayı çalıştırınız\n",
    "ion = pd.read_excel('data_ion2.xlsx',parse_dates=True,index_col='DATE')\n",
    "ion.head(10)"
   ]
  },
  {
   "cell_type": "code",
   "execution_count": 3,
   "id": "43ae649f",
   "metadata": {},
   "outputs": [
    {
     "data": {
      "text/plain": [
       "DATE\n",
       "2014-01-02    379.2\n",
       "2014-01-02    401.9\n",
       "2014-01-02    392.2\n",
       "2014-01-02    408.9\n",
       "2014-01-02    323.4\n",
       "2014-01-03      NaN\n",
       "2014-01-03    244.1\n",
       "2014-01-03      NaN\n",
       "2014-01-03    279.4\n",
       "2014-01-03    232.7\n",
       "2014-01-03      NaN\n",
       "2014-01-03      NaN\n",
       "2014-01-03    263.2\n",
       "2014-01-03    312.0\n",
       "2014-01-03    305.7\n",
       "2014-01-03    274.4\n",
       "Name: hmF2(t-23), dtype: float64"
      ]
     },
     "execution_count": 3,
     "metadata": {},
     "output_type": "execute_result"
    }
   ],
   "source": [
    "### Buradan cevabınıza devam ediniz. Yeni hücreler açabilirsiniz.\n",
    "# İlk sıradaki öğrencinin çözümü yapılmıştır.\n",
    "\n",
    "# İlgilendiğimiz sütunu ve satır aralığını dilimleyelim.\n",
    "\n",
    "ion['hmF2(t-23)'][43:59]"
   ]
  },
  {
   "cell_type": "code",
   "execution_count": 4,
   "id": "d6065877",
   "metadata": {},
   "outputs": [
    {
     "data": {
      "text/plain": [
       "DATE\n",
       "2014-01-02    379.2\n",
       "2014-01-02    401.9\n",
       "2014-01-02    392.2\n",
       "2014-01-02    408.9\n",
       "2014-01-02    323.4\n",
       "2014-01-03    323.4\n",
       "2014-01-03    244.1\n",
       "2014-01-03    244.1\n",
       "2014-01-03    279.4\n",
       "2014-01-03    232.7\n",
       "2014-01-03    232.7\n",
       "2014-01-03    232.7\n",
       "2014-01-03    263.2\n",
       "2014-01-03    312.0\n",
       "2014-01-03    305.7\n",
       "2014-01-03    274.4\n",
       "Name: hmF2(t-23), dtype: float64"
      ]
     },
     "execution_count": 4,
     "metadata": {},
     "output_type": "execute_result"
    }
   ],
   "source": [
    "### Elde ettiğimiz dilimdeki NaN verileri dolduralım.\n",
    "\n",
    "ion.fillna(method='ffill',inplace=True) # görev eğer 'bir sonraki değer ile doldur' şeklinde ise method bfill olacaktır.\n",
    "\n",
    "# Doldurulmuş dilimi ekrana verelim. \n",
    "ion['hmF2(t-23)'][43:59]"
   ]
  },
  {
   "cell_type": "markdown",
   "id": "a58e615b",
   "metadata": {},
   "source": [
    "### Soru 2 (40 puan)\n",
    "`konut.xlsx` excel veri seti içerisinde bir ilimizin mahallelerine ait demografik, ekonomik göstergeler ve o mahallelerdeki konut satış/kira birim fiyatları bulunmaktadır. Bu veriyi kullanarak,\n",
    "\n",
    "a) veri setinde kaç satır vardır? Ekranda gösteriniz.\n",
    "\n",
    "b) veri setindeki `ort_konut_kira_birim_fiyati` sütununun maksimum değerini hesaplayınız.\n",
    "\n",
    "c) veri setinin korelasyon ısı matrisini gösteriniz. \n",
    "\n",
    "ç) aşağıda size verilen bağımlı ve bağımsız değişkenler arasında basit doğrusal regresyon eğitimi gerçekleştiriniz. Eğitim veri setinin oranı %70 olsun.\n",
    "\n",
    "d) Test veri setinizi saçılım grafiğine dökünüz ve üzerine regresyon çizgisini bindirerek çizdiriniz. \n",
    "\n",
    "e) Oluşturduğunuz doğrusal regresyon modelinin kesen ve eğim değerlerini hesaplayınız. Doğru denklemini yazdırınız.\n",
    "\n",
    "f) Oluşturduğunuz doğrusal regresyon modelinin R-kare, MAE ve MSE performans ölçütlerini hesaplayınız."
   ]
  },
  {
   "cell_type": "markdown",
   "id": "9c50dea0",
   "metadata": {},
   "source": [
    "| Öğrenci No | X | y |\n",
    "| --- | --- | --- |\n",
    "| 19160002 | ort_konut_kira_birim_fiyati | uni_mezunu_orani | \n",
    "| 19160004 | ort_konut_kira_birim_fiyati | gelir_duzeyi | \n",
    "| 19160005 | ort_konut_kira_birim_fiyati | B | \n",
    "| 19160006 | ort_konut_satis_birim_fiyati | A+ | \n",
    "| 19160010 | ort_konut_satis_birim_fiyati | B | \n",
    "| 19160012 | B | C |\n",
    "| 19160015 | D | gelir_duzeyi | \n",
    "| 19160016 | B | uni_mezunu_orani | \n",
    "| 19160017 | A+ | D | \n",
    "| 19160020 | A | C |\n",
    "| 19160021 | ort_konut_kira_birim_fiyati | A+ |\n",
    "| 20160801 | ort_konut_kira_birim_fiyati | D | \n",
    "| 20160803 | toplam_nufus | 65+_nufus |"
   ]
  },
  {
   "cell_type": "code",
   "execution_count": 5,
   "id": "5309b9e6",
   "metadata": {},
   "outputs": [
    {
     "data": {
      "text/html": [
       "<div>\n",
       "<style scoped>\n",
       "    .dataframe tbody tr th:only-of-type {\n",
       "        vertical-align: middle;\n",
       "    }\n",
       "\n",
       "    .dataframe tbody tr th {\n",
       "        vertical-align: top;\n",
       "    }\n",
       "\n",
       "    .dataframe thead th {\n",
       "        text-align: right;\n",
       "    }\n",
       "</style>\n",
       "<table border=\"1\" class=\"dataframe\">\n",
       "  <thead>\n",
       "    <tr style=\"text-align: right;\">\n",
       "      <th></th>\n",
       "      <th>mahalle_kodu</th>\n",
       "      <th>toplam_nufus</th>\n",
       "      <th>65+_nufus</th>\n",
       "      <th>uni_mezunu_orani</th>\n",
       "      <th>gelir_duzeyi</th>\n",
       "      <th>A+</th>\n",
       "      <th>A</th>\n",
       "      <th>B</th>\n",
       "      <th>C</th>\n",
       "      <th>D</th>\n",
       "      <th>ort_konut_satis_birim_fiyati</th>\n",
       "      <th>ortalama_stok_yasi</th>\n",
       "      <th>ort_konut_kira_birim_fiyati</th>\n",
       "    </tr>\n",
       "  </thead>\n",
       "  <tbody>\n",
       "    <tr>\n",
       "      <th>0</th>\n",
       "      <td>400</td>\n",
       "      <td>1444</td>\n",
       "      <td>152</td>\n",
       "      <td>45</td>\n",
       "      <td>3.13</td>\n",
       "      <td>16</td>\n",
       "      <td>26</td>\n",
       "      <td>27</td>\n",
       "      <td>17</td>\n",
       "      <td>14</td>\n",
       "      <td>9631</td>\n",
       "      <td>35</td>\n",
       "      <td>33</td>\n",
       "    </tr>\n",
       "    <tr>\n",
       "      <th>1</th>\n",
       "      <td>25</td>\n",
       "      <td>8312</td>\n",
       "      <td>1585</td>\n",
       "      <td>50</td>\n",
       "      <td>3.37</td>\n",
       "      <td>22</td>\n",
       "      <td>29</td>\n",
       "      <td>24</td>\n",
       "      <td>14</td>\n",
       "      <td>11</td>\n",
       "      <td>9585</td>\n",
       "      <td>31</td>\n",
       "      <td>29</td>\n",
       "    </tr>\n",
       "    <tr>\n",
       "      <th>2</th>\n",
       "      <td>62</td>\n",
       "      <td>778</td>\n",
       "      <td>77</td>\n",
       "      <td>41</td>\n",
       "      <td>3.45</td>\n",
       "      <td>27</td>\n",
       "      <td>26</td>\n",
       "      <td>23</td>\n",
       "      <td>13</td>\n",
       "      <td>11</td>\n",
       "      <td>13219</td>\n",
       "      <td>31</td>\n",
       "      <td>34</td>\n",
       "    </tr>\n",
       "    <tr>\n",
       "      <th>3</th>\n",
       "      <td>95</td>\n",
       "      <td>22763</td>\n",
       "      <td>4933</td>\n",
       "      <td>50</td>\n",
       "      <td>3.31</td>\n",
       "      <td>18</td>\n",
       "      <td>33</td>\n",
       "      <td>23</td>\n",
       "      <td>14</td>\n",
       "      <td>12</td>\n",
       "      <td>8015</td>\n",
       "      <td>31</td>\n",
       "      <td>27</td>\n",
       "    </tr>\n",
       "    <tr>\n",
       "      <th>4</th>\n",
       "      <td>336</td>\n",
       "      <td>1693</td>\n",
       "      <td>374</td>\n",
       "      <td>46</td>\n",
       "      <td>3.61</td>\n",
       "      <td>28</td>\n",
       "      <td>32</td>\n",
       "      <td>21</td>\n",
       "      <td>11</td>\n",
       "      <td>8</td>\n",
       "      <td>15052</td>\n",
       "      <td>31</td>\n",
       "      <td>28</td>\n",
       "    </tr>\n",
       "  </tbody>\n",
       "</table>\n",
       "</div>"
      ],
      "text/plain": [
       "   mahalle_kodu  toplam_nufus  65+_nufus  uni_mezunu_orani  gelir_duzeyi  A+  \\\n",
       "0           400          1444        152                45          3.13  16   \n",
       "1            25          8312       1585                50          3.37  22   \n",
       "2            62           778         77                41          3.45  27   \n",
       "3            95         22763       4933                50          3.31  18   \n",
       "4           336          1693        374                46          3.61  28   \n",
       "\n",
       "    A   B   C   D  ort_konut_satis_birim_fiyati  ortalama_stok_yasi  \\\n",
       "0  26  27  17  14                          9631                  35   \n",
       "1  29  24  14  11                          9585                  31   \n",
       "2  26  23  13  11                         13219                  31   \n",
       "3  33  23  14  12                          8015                  31   \n",
       "4  32  21  11   8                         15052                  31   \n",
       "\n",
       "   ort_konut_kira_birim_fiyati  \n",
       "0                           33  \n",
       "1                           29  \n",
       "2                           34  \n",
       "3                           27  \n",
       "4                           28  "
      ]
     },
     "execution_count": 5,
     "metadata": {},
     "output_type": "execute_result"
    }
   ],
   "source": [
    "# Burayı çalıştırınız\n",
    "konut = pd.read_excel('konut.xlsx')\n",
    "konut.head()"
   ]
  },
  {
   "cell_type": "code",
   "execution_count": 6,
   "id": "b591c982",
   "metadata": {},
   "outputs": [
    {
     "data": {
      "text/plain": [
       "(522, 13)"
      ]
     },
     "execution_count": 6,
     "metadata": {},
     "output_type": "execute_result"
    }
   ],
   "source": [
    "# Buradan cevabınıza devam ediniz.\n",
    "\n",
    "# a) veri setinde kaç satır vardır.\n",
    "\n",
    "konut.shape\n",
    "\n",
    "# 522 satır vardır."
   ]
  },
  {
   "cell_type": "code",
   "execution_count": 7,
   "id": "2e9e72b0",
   "metadata": {},
   "outputs": [
    {
     "data": {
      "text/plain": [
       "40"
      ]
     },
     "execution_count": 7,
     "metadata": {},
     "output_type": "execute_result"
    }
   ],
   "source": [
    "# b) veri setindeki ort_konut_kira_birim_fiyati sütununun maksimum değerini hesaplayınız.\n",
    "konut.ort_konut_kira_birim_fiyati.max()\n",
    "\n",
    "# a ve b şıklarını konut.describe() komutuyla gerçekleştirdiyseniz, çözüm kabul edilecektir."
   ]
  },
  {
   "cell_type": "code",
   "execution_count": 8,
   "id": "b7e5a78e",
   "metadata": {},
   "outputs": [
    {
     "data": {
      "image/png": "[encoded data removed]",
      "text/plain": [
       "<Figure size 720x720 with 2 Axes>"
      ]
     },
     "metadata": {
      "needs_background": "light"
     },
     "output_type": "display_data"
    }
   ],
   "source": [
    "# c) veri setinin korelasyon ısı matrisini gösteriniz.\n",
    "plt.figure(figsize=(10, 10))\n",
    "heatmap = sns.heatmap(konut.corr(), vmin=-1, vmax=1, annot=True)\n",
    "heatmap.set_title('Korelasyon Isı Haritası', fontdict={'fontsize':12}, pad=12);"
   ]
  },
  {
   "cell_type": "code",
   "execution_count": 9,
   "id": "8e80dd43",
   "metadata": {},
   "outputs": [
    {
     "data": {
      "text/plain": [
       "LinearRegression()"
      ]
     },
     "execution_count": 9,
     "metadata": {},
     "output_type": "execute_result"
    }
   ],
   "source": [
    "# d) aşağıda size verilen bağımlı ve bağımsız değişkenler arasında basit doğrusal regresyon eğitimi gerçekleştiriniz. \n",
    "# Eğitim veri setinin oranı %70 olsun.\n",
    "\n",
    "# son öğrencinin örneğini çözelim: \n",
    "\n",
    "# bağımlı ve bağımsız değişken seçimi\n",
    "X = konut['toplam_nufus'].values  # Bağımsız Değişken\n",
    "y = konut['65+_nufus'].values  # Bağımlı Değişken\n",
    "\n",
    "X = X.reshape((len(X),1))\n",
    "\n",
    "# Test-Eğitim ayrımı\n",
    "from sklearn.model_selection import train_test_split\n",
    "X_train, X_test, y_train, y_test = train_test_split(X, y, test_size = 0.3)\n",
    "\n",
    "# doğrusal modelin eğitimi\n",
    "\n",
    "from sklearn.linear_model import LinearRegression\n",
    "modelReg = LinearRegression()\n",
    "modelReg.fit(X_train, y_train)"
   ]
  },
  {
   "cell_type": "code",
   "execution_count": 10,
   "id": "425a62df",
   "metadata": {},
   "outputs": [
    {
     "data": {
      "image/png": "[encoded data removed]",
      "text/plain": [
       "<Figure size 432x288 with 1 Axes>"
      ]
     },
     "metadata": {
      "needs_background": "light"
     },
     "output_type": "display_data"
    }
   ],
   "source": [
    "# d) Test veri setinizi saçılım grafiğine dökünüz ve üzerine regresyon çizgisini bindirerek çizdiriniz.\n",
    "\n",
    "plt.scatter(X_test, y_test, color = 'green')\n",
    "plt.plot(X_test, modelReg.predict(X_test), color = 'blue')\n",
    "plt.title('Toplam Nüfus - 65+ Yaş Nüfus ilişkisi (Test Veri Seti)')\n",
    "plt.xlabel('toplam_nufus')\n",
    "plt.ylabel('65+_nufus')\n",
    "plt.show()"
   ]
  },
  {
   "cell_type": "code",
   "execution_count": 11,
   "id": "2264528b",
   "metadata": {},
   "outputs": [
    {
     "name": "stdout",
     "output_type": "stream",
     "text": [
      "Eğim(Q1): [0.0606596]\n",
      "Kesen(Q0): 322.98120107307795\n",
      "y=0.06x+322.98\n"
     ]
    }
   ],
   "source": [
    "# e) Oluşturduğunuz doğrusal regresyon modelinin kesen ve eğim değerlerini hesaplayınız. Doğru denklemini yazdırınız.\n",
    "print('Eğim(Q1):', modelReg.coef_)\n",
    "print('Kesen(Q0):', modelReg.intercept_)\n",
    "print(\"y=%0.2f\"%modelReg.coef_+\"x+%0.2f\"%modelReg.intercept_)"
   ]
  },
  {
   "cell_type": "code",
   "execution_count": 12,
   "id": "5b35b839",
   "metadata": {},
   "outputs": [
    {
     "name": "stdout",
     "output_type": "stream",
     "text": [
      "R-Kare:  0.4466813893097672\n",
      "MAE:  578.0222798193857\n",
      "MSE:  794261.7864588482\n"
     ]
    }
   ],
   "source": [
    "# f) Oluşturduğunuz doğrusal regresyon modelinin R-kare, MAE ve MSE performans ölçütlerini hesaplayınız.\n",
    "\n",
    "# test verisi üzerinde tahmin sonuçlarını oluşturalım.\n",
    "\n",
    "y_pred = modelReg.predict(X_test)\n",
    "\n",
    "# ölçütleri hesaplayalım:\n",
    "from sklearn.metrics import r2_score, mean_absolute_error, mean_squared_error\n",
    "\n",
    "print(\"R-Kare: \", r2_score(y_test, y_pred))\n",
    "print(\"MAE: \", mean_absolute_error(y_test, y_pred))\n",
    "print(\"MSE: \", mean_squared_error(y_test, y_pred))"
   ]
  },
  {
   "cell_type": "markdown",
   "id": "4e094a9d",
   "metadata": {},
   "source": [
    "### Soru 3 (20 puan)\n",
    "\n",
    "`sigorta.csv` veri setini inceleyiniz. \n",
    "\n",
    "a) Bu veri setindeki hangi sütunlar kategoriktir? Belirtiniz.\n",
    "\n",
    "\n",
    "b) Veri setindeki `cinsiyet` sütunu üzerinde LabelEncoder işlemi uygulayınız."
   ]
  },
  {
   "cell_type": "code",
   "execution_count": 13,
   "id": "65fa7901",
   "metadata": {},
   "outputs": [
    {
     "data": {
      "text/html": [
       "<div>\n",
       "<style scoped>\n",
       "    .dataframe tbody tr th:only-of-type {\n",
       "        vertical-align: middle;\n",
       "    }\n",
       "\n",
       "    .dataframe tbody tr th {\n",
       "        vertical-align: top;\n",
       "    }\n",
       "\n",
       "    .dataframe thead th {\n",
       "        text-align: right;\n",
       "    }\n",
       "</style>\n",
       "<table border=\"1\" class=\"dataframe\">\n",
       "  <thead>\n",
       "    <tr style=\"text-align: right;\">\n",
       "      <th></th>\n",
       "      <th>yas</th>\n",
       "      <th>cinsiyet</th>\n",
       "      <th>vucut_kitle_indeksi</th>\n",
       "      <th>cocuk_sayisi</th>\n",
       "      <th>sigara_kullanımi</th>\n",
       "      <th>bolge</th>\n",
       "      <th>prim_odemesi</th>\n",
       "    </tr>\n",
       "  </thead>\n",
       "  <tbody>\n",
       "    <tr>\n",
       "      <th>0</th>\n",
       "      <td>19</td>\n",
       "      <td>K</td>\n",
       "      <td>27.900</td>\n",
       "      <td>0</td>\n",
       "      <td>Evet</td>\n",
       "      <td>Mersin</td>\n",
       "      <td>16884.92400</td>\n",
       "    </tr>\n",
       "    <tr>\n",
       "      <th>1</th>\n",
       "      <td>18</td>\n",
       "      <td>E</td>\n",
       "      <td>33.770</td>\n",
       "      <td>1</td>\n",
       "      <td>Hayır</td>\n",
       "      <td>Adana</td>\n",
       "      <td>1725.55230</td>\n",
       "    </tr>\n",
       "    <tr>\n",
       "      <th>2</th>\n",
       "      <td>28</td>\n",
       "      <td>E</td>\n",
       "      <td>33.000</td>\n",
       "      <td>3</td>\n",
       "      <td>Hayır</td>\n",
       "      <td>Adana</td>\n",
       "      <td>4449.46200</td>\n",
       "    </tr>\n",
       "    <tr>\n",
       "      <th>3</th>\n",
       "      <td>33</td>\n",
       "      <td>E</td>\n",
       "      <td>22.705</td>\n",
       "      <td>0</td>\n",
       "      <td>Hayır</td>\n",
       "      <td>Gaziantep</td>\n",
       "      <td>21984.47061</td>\n",
       "    </tr>\n",
       "    <tr>\n",
       "      <th>4</th>\n",
       "      <td>32</td>\n",
       "      <td>E</td>\n",
       "      <td>28.880</td>\n",
       "      <td>0</td>\n",
       "      <td>Hayır</td>\n",
       "      <td>Gaziantep</td>\n",
       "      <td>3866.85520</td>\n",
       "    </tr>\n",
       "  </tbody>\n",
       "</table>\n",
       "</div>"
      ],
      "text/plain": [
       "   yas cinsiyet  vucut_kitle_indeksi  cocuk_sayisi sigara_kullanımi  \\\n",
       "0   19        K               27.900             0             Evet   \n",
       "1   18        E               33.770             1            Hayır   \n",
       "2   28        E               33.000             3            Hayır   \n",
       "3   33        E               22.705             0            Hayır   \n",
       "4   32        E               28.880             0            Hayır   \n",
       "\n",
       "       bolge  prim_odemesi  \n",
       "0     Mersin   16884.92400  \n",
       "1      Adana    1725.55230  \n",
       "2      Adana    4449.46200  \n",
       "3  Gaziantep   21984.47061  \n",
       "4  Gaziantep    3866.85520  "
      ]
     },
     "execution_count": 13,
     "metadata": {},
     "output_type": "execute_result"
    }
   ],
   "source": [
    "# Burayı çalıştırınız.\n",
    "sigorta = pd.read_csv('sigorta.csv')\n",
    "sigorta.head()"
   ]
  },
  {
   "cell_type": "markdown",
   "id": "ca3dc948",
   "metadata": {},
   "source": [
    "a şıkkının cevabını buraya yazınız: cinsiyet, sigara_kullanimi, bolge sütunları kategoriktir."
   ]
  },
  {
   "cell_type": "code",
   "execution_count": 14,
   "id": "342a9540",
   "metadata": {},
   "outputs": [
    {
     "data": {
      "text/plain": [
       "array(['K', 'E'], dtype=object)"
      ]
     },
     "execution_count": 14,
     "metadata": {},
     "output_type": "execute_result"
    }
   ],
   "source": [
    "# b şıkkının çözümünü buraya yapınız. \n",
    "\n",
    "# cinsiyet sütunundaki unique (tekil) değerleri görelim. \n",
    "sigorta['cinsiyet'].unique()"
   ]
  },
  {
   "cell_type": "code",
   "execution_count": 15,
   "id": "d96609c6",
   "metadata": {},
   "outputs": [
    {
     "name": "stdout",
     "output_type": "stream",
     "text": [
      "[1 0 0 ... 1 1 1]\n"
     ]
    }
   ],
   "source": [
    "# sütunda iki kategori var: K ve E. Bunları LabelEncoder ile numerik hale getirelim.\n",
    "\n",
    "# önce sütunu dilimleyelim.\n",
    "sigorta_cins=sigorta['cinsiyet']\n",
    "\n",
    "# LabelEncoder'ı bu dilim üzerine çalıştıralım. \n",
    "\n",
    "from sklearn.preprocessing import LabelEncoder\n",
    "labelencoder=LabelEncoder()\n",
    "sigorta_cins = labelencoder.fit_transform(sigorta_cins)\n",
    "print(sigorta_cins)"
   ]
  },
  {
   "cell_type": "markdown",
   "id": "c38038c9",
   "metadata": {},
   "source": [
    "### Soru 4 (10 puan)\n",
    "\n",
    "Denetimli öğrenmede, eğitim veri seti ve test veri seti ayrımı neden yapılmaktadır? Bu veri setlerinin kullanımını açıklayınız."
   ]
  },
  {
   "cell_type": "markdown",
   "id": "53158a19",
   "metadata": {},
   "source": [
    "Cevap: Yapay zeka ve makine öğrenimi modelleri, yüksek kaliteli verilerle eğitilir. Verilerinizi etkili bir şekilde nasıl toplayacağınızı, hazırlayacağınızı ve test edeceğinizi anlamak, yapay zekanın potansiyelinden faydalanmanıza yardımcı olur.\n",
    "\n",
    "Makine öğrenimi modelleri eğitildikleri veriler kadar iyidir. Yüksek kaliteli eğitim verileri olmadan en verimli makine öğrenimi algoritmaları bile performans gösteremez. \n",
    "\n",
    "Eğitim verileri, makine öğrenimi algoritmalarını eğitmek için kullanılan ilk veri kümesidir. Modeller, bu verileri kullanarak kurallarını oluşturur ve iyileştirir.\n",
    "\n",
    "Eğitim verileri makine öğrenimi modelini oluşturan başlıca girdidir. Makinelere onlardan beklenenin ne olduğunu öğretir. Model, istenenleri derinlemesine anlamak ve bunda ustalaşmak için veri kümesini tekrar tekrar analiz eder.\n",
    "\n",
    "Modelin performansını veya doğruluğunu değerlendirmek için test verileri kullanılır. Bu veri örneği, eğitim verilerine uyan nihai modelin tarafsız bir değerlendirmesini yapar. Eğitimin ne kadar etkili olduğunu veya modelin ne kadar doğru çalıştığını değerlendirmek için test veri setine başvurulur."
   ]
  }
 ],
 "metadata": {
  "kernelspec": {
   "display_name": "Python 3",
   "language": "python",
   "name": "python3"
  },
  "language_info": {
   "codemirror_mode": {
    "name": "ipython",
    "version": 3
   },
   "file_extension": ".py",
   "mimetype": "text/x-python",
   "name": "python",
   "nbconvert_exporter": "python",
   "pygments_lexer": "ipython3",
   "version": "3.8.8"
  }
 },
 "nbformat": 4,
 "nbformat_minor": 5
}
