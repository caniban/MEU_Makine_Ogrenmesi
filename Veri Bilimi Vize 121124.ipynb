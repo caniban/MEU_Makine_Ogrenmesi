{
 "cells": [
  {
   "cell_type": "markdown",
   "metadata": {},
   "source": [
    "\n",
    "<h2 align=\"center\">T.C. Mersin Üniversitesi</h2>\n",
    "<h2 align=\"center\">Mühendislik Fakültesi</h2>\n",
    "<h2 align=\"center\">Harita Mühendisliği Bölümü</h2>\n",
    "<h3 align=\"center\">1607013 Veri Bilimi Dersi</h3>\n",
    "<h4 align=\"center\">12 Kasım 2024 tarihli Ara Sınav Soruları</h4>\n",
    "<h4 align=\"center\">Sınav süresi 70 dakikadır. Başarılar dilerim.</h4>\n",
    "<h4 align=\"center\">Doç. Dr. Muzaffer Can İBAN</h4>\n",
    "<h4 align=\"center\">Dosyanızı İsim_Soyisim_Numara_AraSinav.ipynb olarak kaydedip caniban@mersin.edu.tr e-posta adresine sınav süresi bitiminden önce gönderiniz. </h4>\n",
    "\n"
   ]
  },
  {
   "cell_type": "markdown",
   "metadata": {},
   "source": [
    "### Soru 1 (60 puan)\n",
    "\n",
    "`su_indeks.csv` dosyası, bir uydu görüntüsünden hesaplanmış farklı su indeksi değerlerini ayrı ayrı sütunlarda barındırmaktadır. Tüm sütunlardaki değerler -1 ve +1 aralığındadır. Dolayısıyla ölçeklendirmeye ya da encode edilmeye gerek yoktur. \n",
    "\n",
    "| Sütun  | Su İndeksi                                              |\n",
    "|---------|----------------------------------------------------------|\n",
    "| NDWI    | Normalized Difference Water Index                   |\n",
    "| NDTI     | Normalized Difference Turbidity Index                                |\n",
    "| TWI   | Triangle Water Index                          |\n",
    "| MBWI  | Multi-Band Water Index               |\n",
    "| WRI    | Water Ratio Index                     |\n",
    "\n",
    "Aşağıdaki listede isminize karşılık gelen bağımsız ve bağımlı değişken sütunlarını kullanacaksınız.\n",
    "\n",
    "| Öğrenci No       | Adı Soyadı                | Bağımsız Değişken    | Bağımlı Değişken       |\n",
    "|------------------|---------------------------|----------------------|------------------------|\n",
    "| 19160014         | MUHAMMET FURKAN EKİCİ      | NDWI                 | NDTI                   |\n",
    "| 20160005         | NUMAN ÖZBEK               | NDWI                 | TWI                    |\n",
    "| 20160015         | BARIŞ ÖLMEZ               | NDWI                 | MBWI                   |\n",
    "| 20160902         | LOUNA JASRI               | NDWI                 | WRI                    |\n",
    "| 21160905         | TRTEEL AMINO               | NDTI                 | TWI                    |\n",
    "| 21220590001      | İBRAHİM HALİL ARSLAN       | NDTI                 | MBWI                   |\n",
    "| 21220590002      | EFEKAN YAVUZ              | NDTI                 | WRI                    |\n",
    "| 21220590003      | İSMAİL KILINÇ             | TWI                  | MBWI                   |\n",
    "| 21220590005      | SİYAHAN SAKMAN            | TWI                  | WRI                    |\n",
    "| 21220590006      | AYŞE GÜL                  | MBWI                 | WRI                    |\n",
    "| 22220590046      | MUHAMMET ÇAKMAK           | MBWI                 | NDTI                   |\n",
    "\n",
    "\n",
    "Sizden istenenler:\n",
    "\n",
    "a) Veri setinde boşluk (NaN) değer varlığını tespit ediniz. Varsa, sütun ortalama değerleri ile bu boşlukları doldurunuz.\n",
    "\n",
    "b)Tüm veri setinin korelasyon matrisi ısı haritasını görselleştiriniz. \n",
    "\n",
    "c) Size verilen bağımlı ve bağımsız değişkenleri ayıklayınız. \n",
    "\n",
    "ç) Veri setini %70 eğitim ve %30 test porsiyonlarına ayırınız.\n",
    "\n",
    "d) Eğitim verilerini kullanarak lineer bir regresör inşa ediniz. \n",
    "\n",
    "e) Test verileri üzerinde bu regresörün tahmin etmesini sağlayınız.\n",
    "\n",
    "f) Test verilerinin gerçek ve tahmin edilen değerlerini aynı çerçevede iki ayrı saçılım grafiği olarak gösteriniz. Gerçek değerler mavi renkli, tahmin edilen değerler ise kırmızı renkli noktalardan oluşsun. Lineer çizgi çizmeyiniz! \n",
    "\n",
    "f) Regresörün performansını MSE ve R2 metriklerini çağırarak ölçünüz. R2 sonucunu yorumlayınız.\n",
    "\n",
    "g) Lineer regresörün doğru denklemini yazdırınız. \n"
   ]
  },
  {
   "cell_type": "markdown",
   "metadata": {},
   "source": [
    "### SORU 2 (30 puan)\n",
    "\n",
    "`asker.xlsx` dosyası askerlerin memleketi, boyu, kilosu, bot numarası, saç rengi, yaşı ve mesleği gibi bilgileri içeren sütunlardan oluşmaktadır.\n",
    "\n",
    "İstenilenler:\n",
    "\n",
    "1) Aşağıdaki tabloda isminizin yanında yazan sütun üzerinde encoding işlemi yapınız. `LabelEncoder` kullanınız. Öncesinde np.unique ile kategorileri göstermeyi unutmayınız.\n",
    "\n",
    "2) Askerlerin boyu ve kilosu arasında korelasyon katsayısını hesaplayınız. \n"
   ]
  },
  {
   "cell_type": "markdown",
   "metadata": {},
   "source": [
    "\n",
    "| Öğrenci No       | Adı Soyadı                | Encode Edilecek Sütun    | \n",
    "|------------------|---------------------------|----------------------|\n",
    "| 19160014         | MUHAMMET FURKAN EKİCİ      | memleket                 | \n",
    "| 20160005         | NUMAN ÖZBEK               | meslek                 | \n",
    "| 20160015         | BARIŞ ÖLMEZ               | sac_rengi                 | \n",
    "| 20160902         | LOUNA JASRI               | memleket                 | \n",
    "| 21160905         | TRTEEL AMINO               | meslek                 | \n",
    "| 21220590001      | İBRAHİM HALİL ARSLAN       | sac_rengi                | \n",
    "| 21220590002      | EFEKAN YAVUZ              | memleket                 | \n",
    "| 21220590003      | İSMAİL KILINÇ             | meslek                | \n",
    "| 21220590005      | SİYAHAN SAKMAN            | sac_rengi                  | \n",
    "| 21220590006      | AYŞE GÜL                  | memleket                 | \n",
    "| 22220590046      | MUHAMMET ÇAKMAK           | meslek                | "
   ]
  },
  {
   "cell_type": "markdown",
   "metadata": {},
   "source": [
    "### Soru 3 (10 puan)\n",
    "\n",
    "Aşağıdakilerden hangisi regresyon, hangisi sınıflandırma problemidir.\n",
    "\n",
    "i) E-postanın spam olup olmadığının belirlenmesi.\n",
    "\n",
    "ii) Bir konutun oda sayısı, alanı, konumu vb. özelliklerine göre değerinin kestirimi.\n",
    "\n",
    "iii) Nokta bulutlarındaki nesne tiplerinin ayırt edilmesi.\n",
    "\n",
    "iv) Uydu görüntülerinden arazi örtüsü tematik haritasının elde edilmesi.\n",
    "\n",
    "v) Aynı tarihte önceki yıllarda ölçülmüş hava sıcaklığı değerleri ile bugünün hava sıcaklığının tahmini.\n",
    "\n"
   ]
  }
 ],
 "metadata": {
  "kernelspec": {
   "display_name": "Python 3",
   "language": "python",
   "name": "python3"
  },
  "language_info": {
   "codemirror_mode": {
    "name": "ipython",
    "version": 3
   },
   "file_extension": ".py",
   "mimetype": "text/x-python",
   "name": "python",
   "nbconvert_exporter": "python",
   "pygments_lexer": "ipython3",
   "version": "3.7.6"
  }
 },
 "nbformat": 4,
 "nbformat_minor": 5
}
