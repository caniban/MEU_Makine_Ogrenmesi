{
 "cells": [
  {
   "cell_type": "markdown",
   "id": "2ab65d6d",
   "metadata": {},
   "source": [
    "<p align=\"center\">\n",
    "  <img src=\"https://camo.githubusercontent.com/1307dcb51a68f0d309fbdd1ba55e2d0cc9b0beaa2aca649fbedfcbb6388dfda7/68747470733a2f2f7261772e67697468756275736572636f6e74656e742e636f6d2f63616e6962616e2f4d45555f566572695f42696c696d692f6d61696e2f6173736574732f5665726925323042696c696d692e706e67\" alt=\"Mersin University\" width=\"300\"/>\n",
    "</p>\n",
    "\n",
    "<h2 align=\"center\">T.C. Mersin Üniversitesi</h1>\n",
    "<h2 align=\"center\">Mühendislik Fakültesi</h2>\n",
    "<h2 align=\"center\">Harita Mühendisliği Bölümü</h2>\n",
    "<h3 align=\"center\">Veri Bilimi Dersi</h3>\n",
    "<h4 align=\"center\">28 Kasım 2023 tarihli Ara Sınav Soruları</h4>\n",
    "<h4 align=\"center\">Sınav süresi 90 dakikadır. Başarılar dilerim.</h4>\n",
    "<h4 align=\"center\">Doç. Dr. Muzaffer Can İBAN</h4>"
   ]
  },
  {
   "cell_type": "markdown",
   "id": "b01897ca",
   "metadata": {},
   "source": [
    "### Soru 1 (55 puan)\n",
    "\n",
    "`bitki_indeksleri.csv` dosyası, bir uydu görüntüsünden hesaplanmış farklı bitki örtüsü indeksi değerlerini ayrı ayrı sütunlarda barındırmaktadır. Tüm sütunlardaki değerler -1 ve +1 aralığındadır. Dolayısıyla ölçeklendirmeye ya da encode edilmeye gerek yoktur. \n",
    "\n",
    "| Sütun  | Bitki İndeksi                                              |\n",
    "|---------|----------------------------------------------------------|\n",
    "| NDVI    | Normalized Difference Vegetation Index                   |\n",
    "| EVI     | Enhanced Vegetation Index                                |\n",
    "| SAVI    | Soil Adjusted Vegetation Index                           |\n",
    "| MNDWI   | Modified Normalized Difference Water Index               |\n",
    "| NDRE    | Normalized Difference Red Edge Index                     |\n",
    "| PRI     | Photochemical Reflectance Index                          |\n",
    "| CI      | Chlorophyll Index                                        |\n",
    "\n",
    "Aşağıdaki listede isminize karşılık gelen bağımsız ve bağımlı değişken sütunlarını kullanacaksınız.\n",
    "\n",
    "| Öğrenci No       | Adı Soyadı          | Bağımsız Değişken    | Bağımlı Değişken       |\n",
    "|------------------|------------------------|--------------------------------|--------------------------------|\n",
    "| 19160001         | YUSUF AKDEMİR           | PRI                            | NDRE                           |\n",
    "| 19160007         | ELİF DÖNMEZ             | NDVI                           | SAVI                           |\n",
    "| 19160009         | ELİF HAKSUN KARAKAYA    | NDRE                           | PRI                            |\n",
    "| 19160011         | MUHAMMET IŞILDAK        | MNDWI                          | CI                             |\n",
    "| 19160014         | MUHAMMET FURKAN EKİCİ   | SAVI                           | NDVI                           |\n",
    "| 19160019         | ULVİ ERENOĞLU           | CI                             | EVI                            |\n",
    "| 19160021         | MEHMET BOZDAĞ           | NDVI                           | NDRE                           |\n",
    "| 20160001         | UĞUR ÖZTORNACI          | EVI                            | MNDWI                          |\n",
    "| 20160003         | HAZAL US                 | MNDWI                          | CI                             |\n",
    "| 20160006         | SENA KÖSE               | NDRE                           | EVI                            |\n",
    "| 20160007         | İSA ÖZDEMİR             | EVI                            | PRI                            |\n",
    "| 20160008         | MAHMUT RIZVANOĞLU       | SAVI                           | CI                             |\n",
    "| 20160009         | SUDE NAZ ERTÜRK          | NDVI                           | MNDWI                          |\n",
    "| 20160011         | MUHAMMED EMİN BIYIK     | CI                             | NDVI                           |\n",
    "| 20160013         | AZAD GÜNGÖR              | SAVI                           | EVI                            |\n",
    "| 20160016         | BÜŞRA ŞİMŞEK            | NDRE                           | PRI                            |\n",
    "| 20160017         | MERT ANIL ATEŞ          | PRI                            | EVI                            |\n",
    "| 20160018         | ŞAHİKA ÇETİN             | MNDWI                          | NDVI                           |\n",
    "| 20160020         | BURAK CAN KAYA           | NDVI                           | CI                             |\n",
    "| 21220590009      | YUNUS TUNCER             | CI                             | NDRE                           |\n",
    "| 22220590049      | VEDAT OKTAY DÜZGÜNCE     | EVI                            | SAVI                           |\n",
    "\n",
    "Sizden istenenler:\n",
    "\n",
    "a) Tüm veri setinin korelasyon matrisi ısı haritasını görselleştiriniz. \n",
    "\n",
    "b) Size verilen bağımlı ve bağımsız değişkenleri ayıklayınız. \n",
    "\n",
    "c) Veri setini %70 eğitim ve %30 test porsiyonlarına ayırınız.\n",
    "\n",
    "ç) Eğitim verilerini kullanarak lineer bir regresör inşa ediniz. \n",
    "\n",
    "d) Test verileri üzerinde bu regresörün tahmin etmesini sağlayınız.\n",
    "\n",
    "e) Test verilerinin gerçek ve tahmin edilen değerlerini aynı çerçevede iki ayrı saçılım grafiği olarak gösteriniz. Gerçek değerler siyah renkli, tahmin edilen değerler ise mavi renkli noktalardan oluşsun. Lineer çizgi çizmeyiniz! \n",
    "\n",
    "f) Regresörün performansını MSE ve R2 metriklerini çağırarak ölçünüz. R2 sonucunu yorumlayınız.\n",
    "\n",
    "g) Lineer regresörün doğru denklemini yazdırınız. \n"
   ]
  },
  {
   "cell_type": "code",
   "execution_count": 1,
   "id": "524cafd1",
   "metadata": {},
   "outputs": [],
   "source": [
    "# Temel veri bilimi kütüphanelerinin yüklenmesi\n",
    "import matplotlib.pyplot as plt\n",
    "import seaborn as sns\n",
    "import numpy as np\n",
    "import pandas as pd"
   ]
  },
  {
   "cell_type": "code",
   "execution_count": 2,
   "id": "59320fd8",
   "metadata": {},
   "outputs": [],
   "source": [
    "# Veri setinin çağrılması\n",
    "df = pd.read_csv(\"bitki_indeksleri.csv\")"
   ]
  },
  {
   "cell_type": "code",
   "execution_count": 3,
   "id": "d52ee4b2",
   "metadata": {},
   "outputs": [
    {
     "data": {
      "image/png": "[encoded data removed]",
      "text/plain": [
       "<Figure size 432x432 with 2 Axes>"
      ]
     },
     "metadata": {
      "needs_background": "light"
     },
     "output_type": "display_data"
    }
   ],
   "source": [
    "# Korelasyon matrisinin ısı haritası\n",
    "plt.figure(figsize=(6, 6))\n",
    "heatmap = sns.heatmap(df.corr(), vmin=-1, vmax=1, annot=True)\n",
    "heatmap.set_title('Korelasyon Matrisi', fontdict={'fontsize':12}, pad=12);"
   ]
  },
  {
   "cell_type": "code",
   "execution_count": 4,
   "id": "365f05e6",
   "metadata": {},
   "outputs": [
    {
     "data": {
      "image/png": "[encoded data removed]",
      "text/plain": [
       "<Figure size 432x288 with 1 Axes>"
      ]
     },
     "metadata": {
      "needs_background": "light"
     },
     "output_type": "display_data"
    },
    {
     "name": "stdout",
     "output_type": "stream",
     "text": [
      "MSE: 0.0103\n",
      "R2 Skoru: 0.9635\n",
      "Regresör Denklemi: EVI = 0.8889 * NDVI + 0.0110\n"
     ]
    }
   ],
   "source": [
    "# Scikit-learn kütüphanesinden eğitim-test veri seti ayrımı fonksiyonun çağrılması\n",
    "from sklearn.model_selection import train_test_split\n",
    "# Scikit-learn kütüphanesinden lineer regresör fonksiyonun çağrılması\n",
    "from sklearn.linear_model import LinearRegression\n",
    "# Performans metrikleri olan MSE ve R2'nin çağrılması\n",
    "from sklearn.metrics import mean_squared_error, r2_score\n",
    "\n",
    "# Bağımsız değişken NDVI\n",
    "X = df[['NDVI']]\n",
    "\n",
    "# Bağımlı değişken EVI\n",
    "y = df['EVI']\n",
    "\n",
    "# 70-30 eğitim test ayrımı\n",
    "X_train, X_test, y_train, y_test = train_test_split(X, y, test_size=0.3)\n",
    "\n",
    "# Lineer regresörün inşaası\n",
    "regressor = LinearRegression()\n",
    "regressor.fit(X_train, y_train)\n",
    "\n",
    "# Test veri seti üzerinde tahmin\n",
    "y_pred = regressor.predict(X_test)\n",
    "\n",
    "# Test verisi üzerinde saçılım grafiğinin çizdirilmesi\n",
    "plt.scatter(X_test, y_test, color='black', label='Gerçek Değer')\n",
    "plt.scatter(X_test, y_pred, color='blue', label='Tahmin Edilen')\n",
    "plt.xlabel('NDVI')\n",
    "plt.ylabel('EVI')\n",
    "plt.title('Lineer Regresyon: Gerçek ve Tahmin Edilen Değerler (Test Verisi)')\n",
    "plt.legend()\n",
    "plt.show()\n",
    "\n",
    "# MSE Hesabı\n",
    "mse = mean_squared_error(y_test, y_pred)\n",
    "\n",
    "# R2 Hesabı\n",
    "r2 = r2_score(y_test, y_pred)\n",
    "\n",
    "# Eğim ve Kesenin Hesaplanması\n",
    "slope = regressor.coef_[0]\n",
    "intercept = regressor.intercept_\n",
    "\n",
    "# Metriklerin ve doğru denkleminin gösterilmesi\n",
    "print(f\"MSE: {mse:.4f}\")\n",
    "print(f\"R2 Skoru: {r2:.4f}\")\n",
    "print(f\"Regresör Denklemi: EVI = {slope:.4f} * NDVI + {intercept:.4f}\")"
   ]
  },
  {
   "cell_type": "markdown",
   "id": "2ad97953",
   "metadata": {},
   "source": [
    "### SORU 2 (35 puan)\n",
    "\n",
    "`asker.xlsx` dosyası askerlerin memleketi, boyu, kilosu, bot numarası, saç rengi, yaşı ve mesleği gibi bilgileri içeren sütunlardan oluşmaktadır.\n",
    "\n",
    "İstenilenler:\n",
    "\n",
    "1) Aşağıdaki tabloda isminizin yanında yazan sütun üzerinde encoding işlemi yapınız. `LabelEncoder` kullanınız. Öncesinde np.unique ile kategorileri göstermeyi unutmayınız.\n",
    "\n",
    "2) Veri setinden kategorik olan sütunları düşürünüz (drop). Bu işlemi başarmadan üçüncü adıma geçmeyiniz. `df.drop([\"sütun_ismi1\", \"sütun_ismi2\", \"sütun_ismi3\"], axis=1, inplace=True)` kodunu düzenleyerek istediğiniz sütunları düşürebilirsiniz.\n",
    "\n",
    "3) Aşağıdaki tabloda isminizin yanında yazan yöntemi kullanarak nümerik sütunlardaki NaN verileri impute ediniz. Kullandığınız yönteme göre doğru fonksiyonu import ediniz."
   ]
  },
  {
   "cell_type": "markdown",
   "id": "4353038b",
   "metadata": {},
   "source": [
    "| Öğrenci No   | Adı Soyadı           | Encode Edilecek Sütun | Imputasyon Yöntemi |\n",
    "|--------------|----------------------|------------------------|------------------------|\n",
    "| 19160001     | YUSUF AKDEMİR        | memleket               | median                  |\n",
    "| 19160007     | ELİF DÖNMEZ          | meslek                 | mean                    |\n",
    "| 19160009     | ELİF HAKSUN KARAKAYA | meslek                 | most_frequent                    |\n",
    "| 19160011     | MUHAMMET IŞILDAK     | memleket               | KNN 2 komşu                  |\n",
    "| 19160014     | MUHAMMET FURKAN EKİCİ| meslek                 | median                    |\n",
    "| 19160019     | ULVİ ERENOĞLU        | sac_rengi              | mean            |\n",
    "| 19160021     | MEHMET BOZDAĞ        | memleket               | KNN 2 komşu                   |\n",
    "| 20160001     | UĞUR ÖZTORNACI       | memleket               | most_frequent           |\n",
    "| 20160003     | HAZAL US              | meslek                 | median            |\n",
    "| 20160006     | SENA KÖSE            | sac_rengi              | median                   |\n",
    "| 20160007     | İSA ÖZDEMİR          | sac_rengi              | most_frequent                   |\n",
    "| 20160008     | MAHMUT RIZVANOĞLU    | meslek                 | KNN 2 komşu                   |\n",
    "| 20160009     | SUDE NAZ ERTÜRK       | sac_rengi              | most_frequent                    |\n",
    "| 20160011     | MUHAMMED EMİN BIYIK  | meslek                 | KNN 5 komşu                  |\n",
    "| 20160013     | AZAD GÜNGÖR           | sac_rengi              | median           |\n",
    "| 20160016     | BÜŞRA ŞİMŞEK         | sac_rengi              | most_frequent                   |\n",
    "| 20160017     | MERT ANIL ATEŞ       | meslek                 | KNN 5 komşu                  |\n",
    "| 20160018     | ŞAHİKA ÇETİN          | meslek                 | KNN 2 komşu           |\n",
    "| 20160020     | BURAK CAN KAYA        | memleket               | KNN 5 komşu            |\n",
    "| 21220590009  | YUNUS TUNCER          | memleket               | most_frequent            |\n",
    "| 22220590049  | VEDAT OKTAY DÜZGÜNCE  | sac_rengi              | median                   |\n"
   ]
  },
  {
   "cell_type": "code",
   "execution_count": 5,
   "id": "d5b9bfc6",
   "metadata": {},
   "outputs": [
    {
     "data": {
      "text/html": [
       "<div>\n",
       "<style scoped>\n",
       "    .dataframe tbody tr th:only-of-type {\n",
       "        vertical-align: middle;\n",
       "    }\n",
       "\n",
       "    .dataframe tbody tr th {\n",
       "        vertical-align: top;\n",
       "    }\n",
       "\n",
       "    .dataframe thead th {\n",
       "        text-align: right;\n",
       "    }\n",
       "</style>\n",
       "<table border=\"1\" class=\"dataframe\">\n",
       "  <thead>\n",
       "    <tr style=\"text-align: right;\">\n",
       "      <th></th>\n",
       "      <th>memleket</th>\n",
       "      <th>boy</th>\n",
       "      <th>kilo</th>\n",
       "      <th>ayakkabi_no</th>\n",
       "      <th>sac_rengi</th>\n",
       "      <th>yas</th>\n",
       "      <th>meslek</th>\n",
       "    </tr>\n",
       "  </thead>\n",
       "  <tbody>\n",
       "    <tr>\n",
       "      <th>0</th>\n",
       "      <td>ISTANBUL</td>\n",
       "      <td>208.0</td>\n",
       "      <td>95.0</td>\n",
       "      <td>39.0</td>\n",
       "      <td>SARI</td>\n",
       "      <td>24.0</td>\n",
       "      <td>OGRENCI</td>\n",
       "    </tr>\n",
       "    <tr>\n",
       "      <th>1</th>\n",
       "      <td>ISTANBUL</td>\n",
       "      <td>202.0</td>\n",
       "      <td>63.0</td>\n",
       "      <td>46.0</td>\n",
       "      <td>KAHVERENGI</td>\n",
       "      <td>23.0</td>\n",
       "      <td>OGRENCI</td>\n",
       "    </tr>\n",
       "    <tr>\n",
       "      <th>2</th>\n",
       "      <td>ANKARA</td>\n",
       "      <td>182.0</td>\n",
       "      <td>107.0</td>\n",
       "      <td>43.0</td>\n",
       "      <td>KAHVERENGI</td>\n",
       "      <td>20.0</td>\n",
       "      <td>MEMUR</td>\n",
       "    </tr>\n",
       "    <tr>\n",
       "      <th>3</th>\n",
       "      <td>ISTANBUL</td>\n",
       "      <td>155.0</td>\n",
       "      <td>90.0</td>\n",
       "      <td>NaN</td>\n",
       "      <td>SIYAH</td>\n",
       "      <td>24.0</td>\n",
       "      <td>OGRENCI</td>\n",
       "    </tr>\n",
       "    <tr>\n",
       "      <th>4</th>\n",
       "      <td>IZMIR</td>\n",
       "      <td>207.0</td>\n",
       "      <td>106.0</td>\n",
       "      <td>45.0</td>\n",
       "      <td>KAHVERENGI</td>\n",
       "      <td>NaN</td>\n",
       "      <td>MEMUR</td>\n",
       "    </tr>\n",
       "  </tbody>\n",
       "</table>\n",
       "</div>"
      ],
      "text/plain": [
       "   memleket    boy   kilo  ayakkabi_no   sac_rengi   yas   meslek\n",
       "0  ISTANBUL  208.0   95.0         39.0        SARI  24.0  OGRENCI\n",
       "1  ISTANBUL  202.0   63.0         46.0  KAHVERENGI  23.0  OGRENCI\n",
       "2    ANKARA  182.0  107.0         43.0  KAHVERENGI  20.0    MEMUR\n",
       "3  ISTANBUL  155.0   90.0          NaN       SIYAH  24.0  OGRENCI\n",
       "4     IZMIR  207.0  106.0         45.0  KAHVERENGI   NaN    MEMUR"
      ]
     },
     "execution_count": 5,
     "metadata": {},
     "output_type": "execute_result"
    }
   ],
   "source": [
    "# Veri setinin yüklenmesi\n",
    "import pandas as pd\n",
    "df = pd.read_excel(\"asker.xlsx\")\n",
    "df.head()"
   ]
  },
  {
   "cell_type": "code",
   "execution_count": 6,
   "id": "2335051f",
   "metadata": {},
   "outputs": [
    {
     "data": {
      "text/plain": [
       "array(['ADANA', 'ANKARA', 'ISTANBUL', 'IZMIR', 'MERSIN'], dtype=object)"
      ]
     },
     "execution_count": 6,
     "metadata": {},
     "output_type": "execute_result"
    }
   ],
   "source": [
    "# Şık 1\n",
    "# Bize verilen sütundaki kategorik sınıfları görelim\n",
    "np.unique(df[\"memleket\"])"
   ]
  },
  {
   "cell_type": "code",
   "execution_count": 7,
   "id": "e08d4c55",
   "metadata": {},
   "outputs": [
    {
     "data": {
      "text/html": [
       "<div>\n",
       "<style scoped>\n",
       "    .dataframe tbody tr th:only-of-type {\n",
       "        vertical-align: middle;\n",
       "    }\n",
       "\n",
       "    .dataframe tbody tr th {\n",
       "        vertical-align: top;\n",
       "    }\n",
       "\n",
       "    .dataframe thead th {\n",
       "        text-align: right;\n",
       "    }\n",
       "</style>\n",
       "<table border=\"1\" class=\"dataframe\">\n",
       "  <thead>\n",
       "    <tr style=\"text-align: right;\">\n",
       "      <th></th>\n",
       "      <th>memleket</th>\n",
       "      <th>boy</th>\n",
       "      <th>kilo</th>\n",
       "      <th>ayakkabi_no</th>\n",
       "      <th>sac_rengi</th>\n",
       "      <th>yas</th>\n",
       "      <th>meslek</th>\n",
       "      <th>memleket_encoded</th>\n",
       "    </tr>\n",
       "  </thead>\n",
       "  <tbody>\n",
       "    <tr>\n",
       "      <th>0</th>\n",
       "      <td>ISTANBUL</td>\n",
       "      <td>208.0</td>\n",
       "      <td>95.0</td>\n",
       "      <td>39.0</td>\n",
       "      <td>SARI</td>\n",
       "      <td>24.0</td>\n",
       "      <td>OGRENCI</td>\n",
       "      <td>2</td>\n",
       "    </tr>\n",
       "    <tr>\n",
       "      <th>1</th>\n",
       "      <td>ISTANBUL</td>\n",
       "      <td>202.0</td>\n",
       "      <td>63.0</td>\n",
       "      <td>46.0</td>\n",
       "      <td>KAHVERENGI</td>\n",
       "      <td>23.0</td>\n",
       "      <td>OGRENCI</td>\n",
       "      <td>2</td>\n",
       "    </tr>\n",
       "    <tr>\n",
       "      <th>2</th>\n",
       "      <td>ANKARA</td>\n",
       "      <td>182.0</td>\n",
       "      <td>107.0</td>\n",
       "      <td>43.0</td>\n",
       "      <td>KAHVERENGI</td>\n",
       "      <td>20.0</td>\n",
       "      <td>MEMUR</td>\n",
       "      <td>1</td>\n",
       "    </tr>\n",
       "    <tr>\n",
       "      <th>3</th>\n",
       "      <td>ISTANBUL</td>\n",
       "      <td>155.0</td>\n",
       "      <td>90.0</td>\n",
       "      <td>NaN</td>\n",
       "      <td>SIYAH</td>\n",
       "      <td>24.0</td>\n",
       "      <td>OGRENCI</td>\n",
       "      <td>2</td>\n",
       "    </tr>\n",
       "    <tr>\n",
       "      <th>4</th>\n",
       "      <td>IZMIR</td>\n",
       "      <td>207.0</td>\n",
       "      <td>106.0</td>\n",
       "      <td>45.0</td>\n",
       "      <td>KAHVERENGI</td>\n",
       "      <td>NaN</td>\n",
       "      <td>MEMUR</td>\n",
       "      <td>3</td>\n",
       "    </tr>\n",
       "  </tbody>\n",
       "</table>\n",
       "</div>"
      ],
      "text/plain": [
       "   memleket    boy   kilo  ayakkabi_no   sac_rengi   yas   meslek  \\\n",
       "0  ISTANBUL  208.0   95.0         39.0        SARI  24.0  OGRENCI   \n",
       "1  ISTANBUL  202.0   63.0         46.0  KAHVERENGI  23.0  OGRENCI   \n",
       "2    ANKARA  182.0  107.0         43.0  KAHVERENGI  20.0    MEMUR   \n",
       "3  ISTANBUL  155.0   90.0          NaN       SIYAH  24.0  OGRENCI   \n",
       "4     IZMIR  207.0  106.0         45.0  KAHVERENGI   NaN    MEMUR   \n",
       "\n",
       "   memleket_encoded  \n",
       "0                 2  \n",
       "1                 2  \n",
       "2                 1  \n",
       "3                 2  \n",
       "4                 3  "
      ]
     },
     "execution_count": 7,
     "metadata": {},
     "output_type": "execute_result"
    }
   ],
   "source": [
    "# Label Encoder fonksiyonunu çağırıp, encoded olan yeni bir sütun oluşturalım\n",
    "from sklearn.preprocessing import LabelEncoder\n",
    "\n",
    "labelencoder=LabelEncoder()\n",
    "\n",
    "df[\"memleket_encoded\"] = labelencoder.fit_transform(df[\"memleket\"])\n",
    "df.head()"
   ]
  },
  {
   "cell_type": "code",
   "execution_count": 8,
   "id": "b4c8bf43",
   "metadata": {},
   "outputs": [
    {
     "data": {
      "text/html": [
       "<div>\n",
       "<style scoped>\n",
       "    .dataframe tbody tr th:only-of-type {\n",
       "        vertical-align: middle;\n",
       "    }\n",
       "\n",
       "    .dataframe tbody tr th {\n",
       "        vertical-align: top;\n",
       "    }\n",
       "\n",
       "    .dataframe thead th {\n",
       "        text-align: right;\n",
       "    }\n",
       "</style>\n",
       "<table border=\"1\" class=\"dataframe\">\n",
       "  <thead>\n",
       "    <tr style=\"text-align: right;\">\n",
       "      <th></th>\n",
       "      <th>boy</th>\n",
       "      <th>kilo</th>\n",
       "      <th>ayakkabi_no</th>\n",
       "      <th>yas</th>\n",
       "      <th>memleket_encoded</th>\n",
       "    </tr>\n",
       "  </thead>\n",
       "  <tbody>\n",
       "    <tr>\n",
       "      <th>0</th>\n",
       "      <td>208.0</td>\n",
       "      <td>95.0</td>\n",
       "      <td>39.0</td>\n",
       "      <td>24.0</td>\n",
       "      <td>2</td>\n",
       "    </tr>\n",
       "    <tr>\n",
       "      <th>1</th>\n",
       "      <td>202.0</td>\n",
       "      <td>63.0</td>\n",
       "      <td>46.0</td>\n",
       "      <td>23.0</td>\n",
       "      <td>2</td>\n",
       "    </tr>\n",
       "    <tr>\n",
       "      <th>2</th>\n",
       "      <td>182.0</td>\n",
       "      <td>107.0</td>\n",
       "      <td>43.0</td>\n",
       "      <td>20.0</td>\n",
       "      <td>1</td>\n",
       "    </tr>\n",
       "    <tr>\n",
       "      <th>3</th>\n",
       "      <td>155.0</td>\n",
       "      <td>90.0</td>\n",
       "      <td>NaN</td>\n",
       "      <td>24.0</td>\n",
       "      <td>2</td>\n",
       "    </tr>\n",
       "    <tr>\n",
       "      <th>4</th>\n",
       "      <td>207.0</td>\n",
       "      <td>106.0</td>\n",
       "      <td>45.0</td>\n",
       "      <td>NaN</td>\n",
       "      <td>3</td>\n",
       "    </tr>\n",
       "  </tbody>\n",
       "</table>\n",
       "</div>"
      ],
      "text/plain": [
       "     boy   kilo  ayakkabi_no   yas  memleket_encoded\n",
       "0  208.0   95.0         39.0  24.0                 2\n",
       "1  202.0   63.0         46.0  23.0                 2\n",
       "2  182.0  107.0         43.0  20.0                 1\n",
       "3  155.0   90.0          NaN  24.0                 2\n",
       "4  207.0  106.0         45.0   NaN                 3"
      ]
     },
     "execution_count": 8,
     "metadata": {},
     "output_type": "execute_result"
    }
   ],
   "source": [
    "# Şık 2\n",
    "# Veri setinden kategorik sütunları droplayalım.\n",
    "df.drop([\"memleket\", \"sac_rengi\", \"meslek\"], axis=1, inplace=True)\n",
    "df.head()"
   ]
  },
  {
   "cell_type": "code",
   "execution_count": 9,
   "id": "1a45baae",
   "metadata": {},
   "outputs": [
    {
     "data": {
      "text/plain": [
       "boy                 0\n",
       "kilo                0\n",
       "ayakkabi_no         0\n",
       "yas                 0\n",
       "memleket_encoded    0\n",
       "dtype: int64"
      ]
     },
     "execution_count": 9,
     "metadata": {},
     "output_type": "execute_result"
    }
   ],
   "source": [
    "# Şık 3\n",
    "# Imputer'ın oluşturulması\n",
    "df_copy=df.copy()\n",
    "from sklearn.impute import SimpleImputer\n",
    "imputer = SimpleImputer(strategy='median')\n",
    "df_copy.iloc[:,:] = imputer.fit_transform(df_copy)\n",
    "# Imputation sonrası NaN veri kalmış mı, kontrol edelim.\n",
    "df_copy.isnull().sum()"
   ]
  },
  {
   "cell_type": "code",
   "execution_count": 10,
   "id": "9e05547d",
   "metadata": {},
   "outputs": [
    {
     "data": {
      "text/plain": [
       "boy                 0\n",
       "kilo                0\n",
       "ayakkabi_no         0\n",
       "yas                 0\n",
       "memleket_encoded    0\n",
       "dtype: int64"
      ]
     },
     "execution_count": 10,
     "metadata": {},
     "output_type": "execute_result"
    }
   ],
   "source": [
    "# KNN örneği\n",
    "df_knn=df.copy()\n",
    "from sklearn.impute import KNNImputer\n",
    "imputer = KNNImputer(n_neighbors=2, weights=\"uniform\")\n",
    "df_knn.iloc[:,:] = imputer.fit_transform(df_knn)\n",
    "df_knn.isnull().sum()"
   ]
  },
  {
   "cell_type": "markdown",
   "id": "6fb86ffe",
   "metadata": {},
   "source": [
    "### Soru 3 (5 puan)\n",
    "Hangi görüntü semantik segmentasyon, hangi görüntü object detection problemidir? Aralarındaki fark nedir?\n",
    "\n",
    "**Görüntü 1:** \n",
    "![Image](https://d3i71xaburhd42.cloudfront.net/59cbe15b43e6ca172fce40786be68340f50be541/12-Figure1.1-1.png)\n",
    "\n",
    "**Görüntü 2:**\n",
    "![Image](https://miro.medium.com/v2/resize:fit:1400/1*0eyyrum6OUejBNMEdAel2w.png)\n",
    "\n",
    "\n",
    "\n"
   ]
  },
  {
   "cell_type": "markdown",
   "id": "f1a44738",
   "metadata": {},
   "source": [
    "CEVAP: Görüntü 1, semantik segmentasyondur. Görüntü 2, object detection (nesne tanıma) problemidir. Semantik segmentasyonda, belirlenen nesne sınıflarına göre görüntü piksellerinin sınırlarının belirlenmesi ve her sınıfa göre ayrı ayrı gösterilmesi beklenir. Object detection ise, görüntü üzerinde aranan belirli bir tipteki nesnenin yerlerinin belirlenmesi hedeflenir. Görüntü 1'de, uydu görüntüsü arazi örtüsü ve kullanımı sınıflarına göre segmente edilmiştir. Görüntü 2'de ise sahnede bulunan uçakların algılanması sağlanmıştır."
   ]
  },
  {
   "cell_type": "markdown",
   "id": "a7a64fb3",
   "metadata": {},
   "source": [
    "### Soru 4 (5 puan)\n",
    "\n",
    "Aşağıdakilerden hangisi regresyon, hangisi sınıflandırma problemidir.\n",
    "\n",
    "i) E-postanın spam olup olmadığının belirlenmesi.\n",
    "\n",
    "ii) Bir konutun oda sayısı, alanı, konumu vb. özelliklerine göre değerinin kestirimi.\n",
    "\n",
    "iii) Nokta bulutlarındaki nesne tiplerinin ayırt edilmesi.\n",
    "\n",
    "iv) Uydu görüntülerinden arazi örtüsü tematik haritasının elde edilmesi.\n",
    "\n",
    "v) Aynı tarihte önceki yıllarda ölçülmüş hava sıcaklığı değerleri ile bugünün hava sıcaklığının tahmini.\n",
    "\n"
   ]
  },
  {
   "cell_type": "markdown",
   "id": "b877803b",
   "metadata": {},
   "source": [
    "CEVAP: \n",
    "\n",
    "i - Sınıflandırma\n",
    "\n",
    "ii- Regresyon\n",
    "\n",
    "iii- Sınıflandırma\n",
    "\n",
    "iv- Sınıflandırma\n",
    "\n",
    "v - Regresyon"
   ]
  }
 ],
 "metadata": {
  "kernelspec": {
   "display_name": "Python 3",
   "language": "python",
   "name": "python3"
  },
  "language_info": {
   "codemirror_mode": {
    "name": "ipython",
    "version": 3
   },
   "file_extension": ".py",
   "mimetype": "text/x-python",
   "name": "python",
   "nbconvert_exporter": "python",
   "pygments_lexer": "ipython3",
   "version": "3.8.8"
  }
 },
 "nbformat": 4,
 "nbformat_minor": 5
}
